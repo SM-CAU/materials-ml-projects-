{
 "cells": [
  {
   "cell_type": "markdown",
   "id": "f7ac2990",
   "metadata": {},
   "source": [
    "# Reproducing the Oxidation State Assignment Model from Jablonka et al.\n",
    "\n",
    "This notebook reproduces the key methodology and results from:\n",
    "**\"Using collective knowledge to assign oxidation states of metal cations in metal–organic frameworks\"**\n",
    "([DOI: 10.1038/s41557-021-00717-y](https://doi.org/10.1038/s41557-021-00717-y))\n",
    "\n",
    "## Table of Contents\n",
    "1. [Environment Setup](#env)\n",
    "2. [Load Data](#load)\n",
    "3. [Featurization](#feat)\n",
    "4. [Model Training](#train)\n",
    "5. [Evaluation](#eval)\n",
    "6. [SHAP Analysis](#shap)"
   ]
  },
  {
   "cell_type": "code",
   "execution_count": 1,
   "id": "69ffd094",
   "metadata": {},
   "outputs": [],
   "source": [
    "import numpy as np\n",
    "import pandas as pd\n",
    "from sklearn.model_selection import train_test_split\n",
    "from sklearn.ensemble import GradientBoostingClassifier, ExtraTreesClassifier, VotingClassifier\n",
    "from sklearn.linear_model import LogisticRegression\n",
    "from sklearn.neighbors import KNeighborsClassifier\n",
    "from sklearn.metrics import classification_report, confusion_matrix, accuracy_score\n",
    "from sklearn.preprocessing import StandardScaler\n",
    "import shap\n",
    "import matplotlib.pyplot as plt\n",
    "import seaborn as sns\n",
    "import joblib\n",
    "import warnings\n",
    "warnings.filterwarnings('ignore')\n",
    "import pickle"
   ]
  },
  {
   "cell_type": "markdown",
   "id": "b66a3971",
   "metadata": {},
   "source": [
    "## 2. Load Data "
   ]
  },
  {
   "cell_type": "code",
   "execution_count": 5,
   "id": "769b31f6",
   "metadata": {},
   "outputs": [
    {
     "name": "stdout",
     "output_type": "stream",
     "text": [
      "Features shape: (211723, 116)\n",
      "Labels shape: (211723, 1)\n",
      "Example CSD IDs: ['DEWQUS', 'RIPPEN', 'CIQHOC', 'WIMWIB', 'EMETUL']\n"
     ]
    }
   ],
   "source": [
    "# Load feature matrix and labels\n",
    "X = np.load(\"features_all.npy\")\n",
    "y = np.load(\"labels_all.npy\")\n",
    "\n",
    "# Load structure names (CSD IDs, optional but useful for later)\n",
    "names_path = r\"E:\\Projects\\names_all.pkl\"\n",
    "\n",
    "with open(names_path, \"rb\") as f:\n",
    "    names = pickle.load(f)\n",
    "# Check shape\n",
    "print(\"Features shape:\", X.shape)\n",
    "print(\"Labels shape:\", y.shape)\n",
    "print(\"Example CSD IDs:\", names[:5])"
   ]
  },
  {
   "cell_type": "markdown",
   "id": "645eb761",
   "metadata": {},
   "source": [
    "## 3. Featurization <a name=\"feat\"></a>\n",
    "\n",
    "> If you use raw CIFs, replace this with matminer or oximachine_featurizer logic.\n",
    "\n",
    "```python\n",
    "X = df.drop(columns=['oxidation_state'])\n",
    "y = df['oxidation_state']\n",
    "\n",
    "# Standardize\n",
    "scaler = StandardScaler()\n",
    "X_scaled = scaler.fit_transform(X)\n",
    "\n",
    "# Save for reproducibility\n",
    "joblib.dump(scaler, 'scaler.pkl')\n",
    "```"
   ]
  },
  {
   "cell_type": "code",
   "execution_count": null,
   "id": "8a0475e1",
   "metadata": {},
   "outputs": [],
   "source": [
    "X_train, X_test, y_train, y_test = train_test_split(X_scaled, y, stratify=y, test_size=0.2, random_state=42)\n",
    "\n",
    "models = [\n",
    "    ('et', ExtraTreesClassifier(n_estimators=200, random_state=0)),\n",
    "    ('gb', GradientBoostingClassifier(n_estimators=200, random_state=0)),\n",
    "    ('knn', KNeighborsClassifier(n_neighbors=5)),\n",
    "    ('lr', LogisticRegression(max_iter=1000))\n",
    "]\n",
    "\n",
    "voting_clf = VotingClassifier(estimators=models, voting='soft')\n",
    "voting_clf.fit(X_train, y_train)\n",
    "\n",
    "# Save model\n",
    "joblib.dump(voting_clf, 'voting_model.pkl')"
   ]
  },
  {
   "cell_type": "code",
   "execution_count": null,
   "id": "58c1d503",
   "metadata": {},
   "outputs": [],
   "source": [
    "y_pred = voting_clf.predict(X_test)\n",
    "print(\"Accuracy:\", accuracy_score(y_test, y_pred))\n",
    "print(classification_report(y_test, y_pred))\n",
    "\n",
    "# Confusion matrix\n",
    "conf = confusion_matrix(y_test, y_pred)\n",
    "sns.heatmap(conf, annot=True, fmt='d', cmap='Blues')\n",
    "plt.title('Confusion Matrix')\n",
    "plt.xlabel('Predicted')\n",
    "plt.ylabel('Actual')\n",
    "plt.show()"
   ]
  },
  {
   "cell_type": "code",
   "execution_count": null,
   "id": "513c4c28",
   "metadata": {},
   "outputs": [],
   "source": [
    "explainer = shap.Explainer(voting_clf.estimators_[0], X_train)\n",
    "shap_values = explainer(X_test[:100])\n",
    "\n",
    "shap.summary_plot(shap_values, features=X_test[:100], feature_names=df.columns[:-1])"
   ]
  },
  {
   "cell_type": "markdown",
   "id": "41afce50",
   "metadata": {},
   "source": [
    "## Notes\n",
    "\n",
    "- Use the original featurizer (`oximachine_featurizer`) and structure parser (`oximachinerunner`) to replace any placeholders.\n",
    "- This notebook can be adapted for transfer learning on other materials datasets."
   ]
  }
 ],
 "metadata": {
  "kernelspec": {
   "display_name": "Python 3",
   "language": "python",
   "name": "python3"
  },
  "language_info": {
   "codemirror_mode": {
    "name": "ipython",
    "version": 3
   },
   "file_extension": ".py",
   "mimetype": "text/x-python",
   "name": "python",
   "nbconvert_exporter": "python",
   "pygments_lexer": "ipython3",
   "version": "3.13.3"
  }
 },
 "nbformat": 4,
 "nbformat_minor": 5
}
