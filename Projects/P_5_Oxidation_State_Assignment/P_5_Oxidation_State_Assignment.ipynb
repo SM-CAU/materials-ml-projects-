{
 "cells": [
  {
   "cell_type": "markdown",
   "id": "f7ac2990",
   "metadata": {},
   "source": [
    "# Reproducing the Oxidation State Assignment Model from Jablonka et al.\n",
    "\n",
    "This notebook reproduces the key methodology and results from:\n",
    "**\"Using collective knowledge to assign oxidation states of metal cations in metal–organic frameworks\"**\n",
    "([DOI: 10.1038/s41557-021-00717-y](https://doi.org/10.1038/s41557-021-00717-y))\n",
    "\n",
    "## Table of Contents\n",
    "1. [Environment Setup](#env)\n",
    "2. [Load Data](#load)\n",
    "3. [Featurization](#feat)\n",
    "4. [Model Training](#train)\n",
    "5. [Evaluation](#eval)\n",
    "6. [SHAP Analysis](#shap)"
   ]
  },
  {
   "cell_type": "code",
   "execution_count": 1,
   "id": "69ffd094",
   "metadata": {},
   "outputs": [
    {
     "name": "stderr",
     "output_type": "stream",
     "text": [
      "IProgress not found. Please update jupyter and ipywidgets. See https://ipywidgets.readthedocs.io/en/stable/user_install.html\n"
     ]
    }
   ],
   "source": [
    "import numpy as np\n",
    "import pandas as pd\n",
    "from sklearn.model_selection import train_test_split\n",
    "from sklearn.ensemble import GradientBoostingClassifier, ExtraTreesClassifier, VotingClassifier\n",
    "from sklearn.linear_model import LogisticRegression\n",
    "from sklearn.neighbors import KNeighborsClassifier\n",
    "from sklearn.metrics import classification_report, confusion_matrix, accuracy_score\n",
    "from sklearn.preprocessing import StandardScaler\n",
    "import shap\n",
    "import matplotlib.pyplot as plt\n",
    "import seaborn as sns\n",
    "import joblib\n",
    "import warnings\n",
    "warnings.filterwarnings('ignore')\n",
    "import pickle"
   ]
  },
  {
   "cell_type": "markdown",
   "id": "b66a3971",
   "metadata": {},
   "source": [
    "## 2. Load Data "
   ]
  },
  {
   "cell_type": "code",
   "execution_count": 2,
   "id": "769b31f6",
   "metadata": {},
   "outputs": [
    {
     "name": "stdout",
     "output_type": "stream",
     "text": [
      "Features shape: (211723, 116)\n",
      "Labels shape: (211723, 1)\n",
      "Example CSD IDs: ['DEWQUS', 'RIPPEN', 'CIQHOC', 'WIMWIB', 'EMETUL']\n"
     ]
    }
   ],
   "source": [
    "# Load feature matrix and labels\n",
    "X = np.load(\"features_all.npy\", allow_pickle=True)\n",
    "y = np.load(\"labels_all.npy\", allow_pickle=True)\n",
    "\n",
    "# Load structure names (CSD IDs, optional but useful for later)\n",
    "names_path = r\"E:\\Projects\\Oxidation_used_data\\names_all.pkl\"\n",
    "\n",
    "with open(names_path, \"rb\") as f:\n",
    "    names = pickle.load(f)\n",
    "# Check shape\n",
    "print(\"Features shape:\", X.shape)\n",
    "print(\"Labels shape:\", y.shape)\n",
    "print(\"Example CSD IDs:\", names[:5])"
   ]
  },
  {
   "cell_type": "code",
   "execution_count": 3,
   "id": "96175772",
   "metadata": {},
   "outputs": [],
   "source": [
    "# Load the scaler and scale features\n",
    "scaler = joblib.load(\"scaler_0.joblib\")\n",
    "X_scaled = scaler.transform(X)\n",
    "\n",
    "# Load pretrained voting classifier\n",
    "model = joblib.load(\"votingclassifier.joblib\")"
   ]
  },
  {
   "cell_type": "code",
   "execution_count": 4,
   "id": "aef59f1c",
   "metadata": {},
   "outputs": [
    {
     "name": "stdout",
     "output_type": "stream",
     "text": [
      "(211723, 116)\n"
     ]
    }
   ],
   "source": [
    "print(X_scaled.shape)"
   ]
  },
  {
   "cell_type": "code",
   "execution_count": 5,
   "id": "d7df9337",
   "metadata": {},
   "outputs": [
    {
     "name": "stdout",
     "output_type": "stream",
     "text": [
      "              precision    recall  f1-score   support\n",
      "\n",
      "           1       0.99      1.00      0.99       182\n",
      "           2       1.00      1.00      1.00       596\n",
      "           3       1.00      0.99      1.00       163\n",
      "           4       1.00      1.00      1.00        30\n",
      "           5       1.00      1.00      1.00         4\n",
      "           6       1.00      1.00      1.00        25\n",
      "\n",
      "    accuracy                           1.00      1000\n",
      "   macro avg       1.00      1.00      1.00      1000\n",
      "weighted avg       1.00      1.00      1.00      1000\n",
      "\n"
     ]
    }
   ],
   "source": [
    "# Predict only the first 1000 oxidation states\n",
    "y_pred = model.predict(X_scaled[:1000])\n",
    "\n",
    "# (Optional) Evaluate on first 1000 labels\n",
    "from sklearn.metrics import classification_report\n",
    "\n",
    "print(classification_report(y[:1000], y_pred))"
   ]
  },
  {
   "cell_type": "code",
   "execution_count": 6,
   "id": "59727351",
   "metadata": {},
   "outputs": [
    {
     "name": "stdout",
     "output_type": "stream",
     "text": [
      "Accuracy: 0.997\n",
      "              precision    recall  f1-score   support\n",
      "\n",
      "           1       0.99      1.00      0.99       182\n",
      "           2       1.00      1.00      1.00       596\n",
      "           3       1.00      0.99      1.00       163\n",
      "           4       1.00      1.00      1.00        30\n",
      "           5       1.00      1.00      1.00         4\n",
      "           6       1.00      1.00      1.00        25\n",
      "\n",
      "    accuracy                           1.00      1000\n",
      "   macro avg       1.00      1.00      1.00      1000\n",
      "weighted avg       1.00      1.00      1.00      1000\n",
      "\n"
     ]
    },
    {
     "data": {
      "image/png": "[encoded data removed]",
      "text/plain": [
       "<Figure size 600x500 with 2 Axes>"
      ]
     },
     "metadata": {},
     "output_type": "display_data"
    }
   ],
   "source": [
    "from sklearn.metrics import classification_report, confusion_matrix, accuracy_score\n",
    "import seaborn as sns\n",
    "import matplotlib.pyplot as plt\n",
    "\n",
    "# True vs predicted for the first 1000\n",
    "y_true_1000 = y[:1000]\n",
    "y_pred_1000 = model.predict(X_scaled[:1000])\n",
    "\n",
    "# Accuracy\n",
    "print(\"Accuracy:\", accuracy_score(y_true_1000, y_pred_1000))\n",
    "\n",
    "# Classification report\n",
    "print(classification_report(y_true_1000, y_pred_1000))\n",
    "\n",
    "# Confusion matrix\n",
    "conf = confusion_matrix(y_true_1000, y_pred_1000)\n",
    "plt.figure(figsize=(6, 5))\n",
    "sns.heatmap(conf, annot=True, fmt='d', cmap='Blues')\n",
    "plt.title(\"Confusion Matrix (First 1000 Samples)\")\n",
    "plt.xlabel(\"Predicted\")\n",
    "plt.ylabel(\"Actual\")\n",
    "plt.show()\n"
   ]
  },
  {
   "cell_type": "code",
   "execution_count": 7,
   "id": "0c34794a",
   "metadata": {},
   "outputs": [
    {
     "name": "stdout",
     "output_type": "stream",
     "text": [
      "['Unnamed: 0', 'local difference in MendeleevNumber', 'local difference in Column', 'local difference in Row', 'local difference in Electronegativity', 'local difference in NsValence', 'local difference in NpValence', 'local difference in NdValence', 'local difference in NfValence', 'local difference in NValence', 'local difference in NsUnfilled', 'local difference in NpUnfilled', 'local difference in NdUnfilled', 'local difference in NfUnfilled', 'local difference in NUnfilled', 'local difference in GSbandgap', 'local signed difference in MendeleevNumber', 'local signed difference in Column', 'local signed difference in Row', 'local signed difference in Electronegativity', 'local signed difference in NsValence', 'local signed difference in NpValence', 'local signed difference in NdValence', 'local signed difference in NfValence', 'local signed difference in NValence', 'local signed difference in NsUnfilled', 'local signed difference in NpUnfilled', 'local signed difference in NdUnfilled', 'local signed difference in NfUnfilled', 'local signed difference in NUnfilled', 'local signed difference in GSbandgap', 'maximum local difference in MendeleevNumber', 'maximum local difference in Column', 'maximum local difference in Row', 'maximum local difference in Electronegativity', 'maximum local difference in NsValence', 'maximum local difference in NpValence', 'maximum local difference in NdValence', 'maximum local difference in NfValence', 'maximum local difference in NValence', 'maximum local difference in NsUnfilled', 'maximum local difference in NpUnfilled', 'maximum local difference in NdUnfilled', 'maximum local difference in NfUnfilled', 'maximum local difference in NUnfilled', 'maximum local difference in GSbandgap', 'mimum local difference in MendeleevNumber', 'mimum local difference in Column', 'mimum local difference in Row', 'mimum local difference in Electronegativity', 'mimum local difference in NsValence', 'mimum local difference in NpValence', 'mimum local difference in NdValence', 'mimum local difference in NfValence', 'mimum local difference in NValence', 'mimum local difference in NsUnfilled', 'mimum local difference in NpUnfilled', 'mimum local difference in NdUnfilled', 'mimum local difference in NfUnfilled', 'mimum local difference in NUnfilled', 'mimum local difference in GSbandgap', 'column', 'row', 'valenceelectrons', 'diffto18electrons', 'sunfilled', 'punfilled', 'dunfilled', 'wt CN_1', 'sgl_bd CN_1', 'wt CN_2', 'L-shaped CN_2', 'water-like CN_2', 'bent 120 degrees CN_2', 'bent 150 degrees CN_2', 'linear CN_2', 'wt CN_3', 'trigonal planar CN_3', 'trigonal non-coplanar CN_3', 'T-shaped CN_3', 'wt CN_4', 'square co-planar CN_4', 'tetrahedral CN_4', 'rectangular see-saw-like CN_4', 'see-saw-like CN_4', 'trigonal pyramidal CN_4', 'wt CN_5', 'pentagonal planar CN_5', 'square pyramidal CN_5', 'trigonal bipyramidal CN_5', 'wt CN_6', 'hexagonal planar CN_6', 'octahedral CN_6', 'pentagonal pyramidal CN_6', 'wt CN_7', 'hexagonal pyramidal CN_7', 'pentagonal bipyramidal CN_7', 'wt CN_8', 'body-centered cubic CN_8', 'hexagonal bipyramidal CN_8', 'wt CN_9', 'q2 CN_9', 'q4 CN_9', 'q6 CN_9', 'wt CN_10', 'q2 CN_10', 'q4 CN_10', 'q6 CN_10', 'wt CN_11', 'q2 CN_11', 'q4 CN_11', 'q6 CN_11', 'wt CN_12', 'cuboctahedral CN_12', 'q2 CN_12', 'q4 CN_12', 'q6 CN_12', 'wt CN_13', 'wt CN_14', 'wt CN_15', 'wt CN_16', 'wt CN_17', 'wt CN_18', 'wt CN_19', 'wt CN_20', 'wt CN_21', 'wt CN_22', 'wt CN_23', 'wt CN_24', 'G2_0.05', 'G2_4.0', 'G2_20.0', 'G2_80.0', 'G4_0.005_1.0_1.0', 'G4_0.005_1.0_-1.0', 'G4_0.005_4.0_1.0', 'G4_0.005_4.0_-1.0', 'stype', 'name', 'oxidationstate']\n"
     ]
    }
   ],
   "source": [
    "df = pd.read_csv(r\"E:\\Projects\\Oxidation_used_data\\all_data.csv\")\n",
    "print(df.columns.tolist())"
   ]
  },
  {
   "cell_type": "code",
   "execution_count": 9,
   "id": "981584de",
   "metadata": {},
   "outputs": [
    {
     "ename": "ValueError",
     "evalue": "operands could not be broadcast together with shapes (1441551,137) (116,) (1441551,137) ",
     "output_type": "error",
     "traceback": [
      "\u001b[1;31m---------------------------------------------------------------------------\u001b[0m",
      "\u001b[1;31mValueError\u001b[0m                                Traceback (most recent call last)",
      "Cell \u001b[1;32mIn[9], line 12\u001b[0m\n\u001b[0;32m      9\u001b[0m y_df \u001b[38;5;241m=\u001b[39m df[\u001b[38;5;124m\"\u001b[39m\u001b[38;5;124moxidationstate\u001b[39m\u001b[38;5;124m\"\u001b[39m]\n\u001b[0;32m     11\u001b[0m \u001b[38;5;66;03m# Scale (reuse the previously loaded scaler)\u001b[39;00m\n\u001b[1;32m---> 12\u001b[0m X_scaled_df \u001b[38;5;241m=\u001b[39m \u001b[43mscaler\u001b[49m\u001b[38;5;241;43m.\u001b[39;49m\u001b[43mtransform\u001b[49m\u001b[43m(\u001b[49m\u001b[43mX_df_numeric\u001b[49m\u001b[43m)\u001b[49m\n\u001b[0;32m     14\u001b[0m \u001b[38;5;66;03m# Use the first 100 samples for SHAP\u001b[39;00m\n\u001b[0;32m     15\u001b[0m explainer \u001b[38;5;241m=\u001b[39m shap\u001b[38;5;241m.\u001b[39mExplainer(model\u001b[38;5;241m.\u001b[39mestimators_[\u001b[38;5;241m0\u001b[39m], X_scaled_df[:\u001b[38;5;241m100\u001b[39m])\n",
      "File \u001b[1;32mc:\\Users\\sayee\\miniconda3\\envs\\oxistate\\lib\\site-packages\\sklearn\\preprocessing\\_data.py:806\u001b[0m, in \u001b[0;36mStandardScaler.transform\u001b[1;34m(self, X, copy)\u001b[0m\n\u001b[0;32m    804\u001b[0m \u001b[38;5;28;01melse\u001b[39;00m:\n\u001b[0;32m    805\u001b[0m     \u001b[38;5;28;01mif\u001b[39;00m \u001b[38;5;28mself\u001b[39m\u001b[38;5;241m.\u001b[39mwith_mean:\n\u001b[1;32m--> 806\u001b[0m         X \u001b[38;5;241m-\u001b[39m\u001b[38;5;241m=\u001b[39m \u001b[38;5;28mself\u001b[39m\u001b[38;5;241m.\u001b[39mmean_\n\u001b[0;32m    807\u001b[0m     \u001b[38;5;28;01mif\u001b[39;00m \u001b[38;5;28mself\u001b[39m\u001b[38;5;241m.\u001b[39mwith_std:\n\u001b[0;32m    808\u001b[0m         X \u001b[38;5;241m/\u001b[39m\u001b[38;5;241m=\u001b[39m \u001b[38;5;28mself\u001b[39m\u001b[38;5;241m.\u001b[39mscale_\n",
      "\u001b[1;31mValueError\u001b[0m: operands could not be broadcast together with shapes (1441551,137) (116,) (1441551,137) "
     ]
    }
   ],
   "source": [
    "import pandas as pd\n",
    "import shap\n",
    "\n",
    "# Load the full dataset from outside the repo\n",
    "df = pd.read_csv(r\"E:\\Projects\\Oxidation_used_data\\all_data.csv\")\n",
    "\n",
    "# Prepare features and labels\n",
    "X_df_numeric = X_df.select_dtypes(include=[\"number\"])\n",
    "y_df = df[\"oxidationstate\"]\n",
    "\n",
    "# Scale (reuse the previously loaded scaler)\n",
    "X_scaled_df = scaler.transform(X_df_numeric)\n",
    "\n",
    "# Use the first 100 samples for SHAP\n",
    "explainer = shap.Explainer(model.estimators_[0], X_scaled_df[:100])\n",
    "shap_values = explainer(X_scaled_df[:100])\n",
    "\n",
    "# Show summary plot with feature names\n",
    "shap.summary_plot(shap_values, X_scaled_df[:100], feature_names=X_df_numeric.columns)"
   ]
  }
 ],
 "metadata": {
  "kernelspec": {
   "display_name": "oxistate",
   "language": "python",
   "name": "python3"
  },
  "language_info": {
   "codemirror_mode": {
    "name": "ipython",
    "version": 3
   },
   "file_extension": ".py",
   "mimetype": "text/x-python",
   "name": "python",
   "nbconvert_exporter": "python",
   "pygments_lexer": "ipython3",
   "version": "3.8.20"
  }
 },
 "nbformat": 4,
 "nbformat_minor": 5
}
