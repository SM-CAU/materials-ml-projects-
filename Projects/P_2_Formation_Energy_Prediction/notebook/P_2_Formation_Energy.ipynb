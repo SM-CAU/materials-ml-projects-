{
 "cells": [
  {
   "cell_type": "markdown",
   "id": "1caa57cd",
   "metadata": {},
   "source": [
    "# Required Libraries"
   ]
  },
  {
   "cell_type": "code",
   "execution_count": 2,
   "id": "e1062663",
   "metadata": {},
   "outputs": [],
   "source": [
    "import pandas as pd\n",
    "import numpy as np\n",
    "import shap\n",
    "import matplotlib.pyplot as plt\n",
    "from mp_api.client import MPRester\n",
    "\n",
    "from pymatgen.core.composition import Composition\n",
    "from matminer.featurizers.composition import ElementProperty\n",
    "from matminer.featurizers.structure import DensityFeatures, GlobalSymmetryFeatures\n",
    "from pymatgen.core import Structure\n",
    "\n",
    "from pycaret.regression import setup, compare_models, tune_model, finalize_model, predict_model, save_model, load_model\n",
    "import xgboost as xgb\n",
    "import joblib"
   ]
  },
  {
   "cell_type": "markdown",
   "id": "c8a7720b",
   "metadata": {},
   "source": [
    "# Data Scrapping"
   ]
  },
  {
   "cell_type": "code",
   "execution_count": 29,
   "id": "89e1d244",
   "metadata": {},
   "outputs": [
    {
     "data": {
      "application/vnd.jupyter.widget-view+json": {
       "model_id": "5498a11dccbf45eab902348b6d1006a0",
       "version_major": 2,
       "version_minor": 0
      },
      "text/plain": [
       "Retrieving SummaryDoc documents:   0%|          | 0/4500 [00:00<?, ?it/s]"
      ]
     },
     "metadata": {},
     "output_type": "display_data"
    },
    {
     "name": "stdout",
     "output_type": "stream",
     "text": [
      "Retrieved 4500 Materials with their desired properties.\n"
     ]
    }
   ],
   "source": [
    "# 🔑 3. Fetch Data from Materials Project\n",
    "API_KEY = '2yqf6FmGq648PC6a4JaNk1jXd5G5LyKo'  # Replace with your Materials Project API key\n",
    "mpr = MPRester(API_KEY)\n",
    "\n",
    "# Fetching materials data with specific properties\n",
    "with MPRester(API_KEY) as mpr:\n",
    "        entries = mpr.materials.summary.search(\n",
    "        fields=['formula_pretty', 'formation_energy_per_atom', 'structure'],\n",
    "        num_chunks=9,\n",
    "        #num_chunks=None\n",
    "        chunk_size=500\n",
    "        )\n",
    "\n",
    "print(f\"Retrieved {len(entries)} Materials with their desired properties.\")"
   ]
  },
  {
   "cell_type": "code",
   "execution_count": 31,
   "id": "0f43e2bb",
   "metadata": {},
   "outputs": [
    {
     "name": "stdout",
     "output_type": "stream",
     "text": [
      "{'builder_meta': None, 'nsites': None, 'elements': None, 'nelements': None, 'composition': None, 'composition_reduced': None, 'formula_pretty': 'O2', 'formula_anonymous': None, 'chemsys': None, 'volume': None, 'density': None, 'density_atomic': None, 'symmetry': None, 'property_name': None, 'material_id': None, 'deprecated': None, 'deprecation_reasons': None, 'last_updated': None, 'origins': None, 'warnings': None, 'structure': Structure Summary\n",
      "Lattice\n",
      "    abc : 5.160296 5.2402447696794665 5.89021299170463\n",
      " angles : 90.23517285321574 90.49680784381113 90.25713099844408\n",
      " volume : 159.2695518855733\n",
      "      A : 5.160296 0.0 0.0\n",
      "      B : -0.023517 5.240192 0.0\n",
      "      C : -0.051073 -0.024406 5.889941\n",
      "    pbc : True True True\n",
      "PeriodicSite: O (4.4080, 2.5940, 5.8225) [0.8663, 0.4996, 0.9886]\n",
      "PeriodicSite: O (0.4295, 2.2106, 5.7774) [0.0949, 0.4264, 0.9809]\n",
      "PeriodicSite: O (1.8839, 5.1653, 3.0112) [0.3746, 0.9881, 0.5112]\n",
      "PeriodicSite: O (3.0761, 0.3396, 3.0839) [0.6016, 0.0672, 0.5236]\n",
      "PeriodicSite: O (2.5640, 4.5633, 0.0876) [0.5010, 0.8709, 0.0149]\n",
      "PeriodicSite: O (2.2015, 0.5036, 0.1107) [0.4272, 0.0962, 0.0188]\n",
      "PeriodicSite: O (4.7429, 2.1596, 2.8439) [0.9258, 0.4144, 0.4828]\n",
      "PeriodicSite: O (5.0504, 3.3623, 2.8683) [0.9865, 0.6439, 0.4870]\n",
      "PeriodicSite: O (3.1178, 1.9707, 2.9482) [0.6109, 0.3784, 0.5005]\n",
      "PeriodicSite: O (0.5208, 0.5778, 5.8410) [0.1113, 0.1149, 0.9917], 'task_ids': None, 'uncorrected_energy_per_atom': None, 'energy_per_atom': None, 'formation_energy_per_atom': 0.38701357200000003, 'energy_above_hull': None, 'is_stable': None, 'equilibrium_reaction_energy_per_atom': None, 'decomposes_to': None, 'xas': None, 'grain_boundaries': None, 'band_gap': None, 'cbm': None, 'vbm': None, 'efermi': None, 'is_gap_direct': None, 'is_metal': None, 'es_source_calc_id': None, 'bandstructure': None, 'dos': None, 'dos_energy_up': None, 'dos_energy_down': None, 'is_magnetic': None, 'ordering': None, 'total_magnetization': None, 'total_magnetization_normalized_vol': None, 'total_magnetization_normalized_formula_units': None, 'num_magnetic_sites': None, 'num_unique_magnetic_sites': None, 'types_of_magnetic_species': None, 'bulk_modulus': None, 'shear_modulus': None, 'universal_anisotropy': None, 'homogeneous_poisson': None, 'e_total': None, 'e_ionic': None, 'e_electronic': None, 'n': None, 'e_ij_max': None, 'weighted_surface_energy_EV_PER_ANG2': None, 'weighted_surface_energy': None, 'weighted_work_function': None, 'surface_anisotropy': None, 'shape_factor': None, 'has_reconstructed': None, 'possible_species': None, 'has_props': None, 'theoretical': None, 'database_IDs': None, 'fields_not_requested': ['builder_meta', 'nsites', 'elements', 'nelements', 'composition', 'composition_reduced', 'formula_anonymous', 'chemsys', 'volume', 'density', 'density_atomic', 'symmetry', 'property_name', 'material_id', 'deprecated', 'deprecation_reasons', 'last_updated', 'origins', 'warnings', 'task_ids', 'uncorrected_energy_per_atom', 'energy_per_atom', 'energy_above_hull', 'is_stable', 'equilibrium_reaction_energy_per_atom', 'decomposes_to', 'xas', 'grain_boundaries', 'band_gap', 'cbm', 'vbm', 'efermi', 'is_gap_direct', 'is_metal', 'es_source_calc_id', 'bandstructure', 'dos', 'dos_energy_up', 'dos_energy_down', 'is_magnetic', 'ordering', 'total_magnetization', 'total_magnetization_normalized_vol', 'total_magnetization_normalized_formula_units', 'num_magnetic_sites', 'num_unique_magnetic_sites', 'types_of_magnetic_species', 'bulk_modulus', 'shear_modulus', 'universal_anisotropy', 'homogeneous_poisson', 'e_total', 'e_ionic', 'e_electronic', 'n', 'e_ij_max', 'weighted_surface_energy_EV_PER_ANG2', 'weighted_surface_energy', 'weighted_work_function', 'surface_anisotropy', 'shape_factor', 'has_reconstructed', 'possible_species', 'has_props', 'theoretical', 'database_IDs']}\n"
     ]
    }
   ],
   "source": [
    "print(entries[0].model_dump())"
   ]
  },
  {
   "cell_type": "code",
   "execution_count": 34,
   "id": "f6b91e5e",
   "metadata": {},
   "outputs": [],
   "source": [
    "# --- Step 3: Convert to DataFrame for analysis ---\n",
    "# Each entry is a SummaryDoc Object; convert to rows\n",
    "data = []\n",
    "for i in entries:\n",
    "    data.append({\n",
    "        \n",
    "        \"formula\": i.formula_pretty,\n",
    "        \"structure\": i.structure,\n",
    "        \"formation_energy_per_atom\": i.formation_energy_per_atom,\n",
    "    })\n",
    "\n",
    "df = pd.DataFrame(data)"
   ]
  },
  {
   "cell_type": "code",
   "execution_count": 36,
   "id": "412980b0",
   "metadata": {},
   "outputs": [
    {
     "data": {
      "application/vnd.microsoft.datawrangler.viewer.v0+json": {
       "columns": [
        {
         "name": "index",
         "rawType": "int64",
         "type": "integer"
        },
        {
         "name": "formula",
         "rawType": "object",
         "type": "string"
        },
        {
         "name": "structure",
         "rawType": "object",
         "type": "unknown"
        },
        {
         "name": "formation_energy_per_atom",
         "rawType": "float64",
         "type": "float"
        }
       ],
       "ref": "6e008879-66f0-4195-a5a8-6b3accfb0720",
       "rows": [
        [
         "0",
         "O2",
         "Full Formula (O10)\nReduced Formula: O2\nabc   :   5.160296   5.240245   5.890213\nangles:  90.235173  90.496808  90.257131\npbc   :       True       True       True\nSites (10)\n  #  SP           a         b         c    magmom\n---  ----  --------  --------  --------  --------\n  0  O     0.866281  0.499618  0.98855      0.445\n  1  O     0.094882  0.426418  0.980897     0.355\n  2  O     0.374634  0.988089  0.511237     0.445\n  3  O     0.601607  0.067239  0.523596     0.356\n  4  O     0.500982  0.870895  0.014881     0.445\n  5  O     0.42724   0.096182  0.018788     0.358\n  6  O     0.925787  0.414374  0.482834     0.358\n  7  O     0.986453  0.643905  0.486987     0.445\n  8  O     0.610868  0.378399  0.500543     0.046\n  9  O     0.111266  0.114881  0.991685     0.047",
         "0.38701357200000003"
        ],
        [
         "1",
         "Si",
         "Full Formula (Si8)\nReduced Formula: Si\nabc   :   5.386324   4.993065   6.889348\nangles:  69.433303 109.946767  96.593537\npbc   :       True       True       True\nSites (8)\n  #  SP           a         b         c    magmom\n---  ----  --------  --------  --------  --------\n  0  Si    0.97728   0.235972  0.117326        -0\n  1  Si    0.798476  0.55649   0.739457        -0\n  2  Si    0.421681  0.244981  0.309614         0\n  3  Si    0.789915  0.926248  0.896793         0\n  4  Si    0.769151  0.550259  0.241342         0\n  5  Si    0.444686  0.249079  0.653811        -0\n  6  Si    0.779581  0.94965   0.394804         0\n  7  Si    0.004084  0.254755  0.624565        -0",
         "0.37250966749999903"
        ],
        [
         "2",
         "O2",
         "Full Formula (O12)\nReduced Formula: O2\nabc   :   4.930603   5.122182   7.899177\nangles:  90.627352  91.068696  90.120427\npbc   :       True       True       True\nSites (12)\n  #  SP           a         b         c    magmom\n---  ----  --------  --------  --------  --------\n  0  O     0.422065  0.729541  0.49886          0\n  1  O     0.589998  0.281141  0.995694         0\n  2  O     0.226715  0.085877  0.243923         0\n  3  O     0.771364  0.911815  0.751483         0\n  4  O     0.275322  0.584439  0.003756        -0\n  5  O     0.717125  0.408134  0.500425        -0\n  6  O     0.083515  0.219289  0.747131        -0\n  7  O     0.918165  0.7763    0.258352        -0\n  8  O     0.023646  0.975316  0.750631        -0\n  9  O     0.975594  0.020692  0.251409        -0\n 10  O     0.468419  0.483054  0.498427        -0\n 11  O     0.528073  0.524401  0.99991         -0",
         "0.419853780833333"
        ],
        [
         "3",
         "Si",
         "Full Formula (Si100)\nReduced Formula: Si\nabc   :  12.539835  12.336424  12.537087\nangles:  77.158581 101.537034 106.471952\npbc   :       True       True       True\nSites (100)\n  #  SP           a         b         c    magmom\n---  ----  --------  --------  --------  --------\n  0  Si    0.087527  0.219204  0.418405         0\n  1  Si    0.123744  0.760885  0.345439        -0\n  2  Si    0.698029  0.271987  0.377192         0\n  3  Si    0.699869  0.017957  0.318968        -0\n  4  Si    0.051784  0.032411  0.57618         -0\n  5  Si    0.270331  0.502552  0.341587         0\n  6  Si    0.866583  0.913924  0.734059         0\n  7  Si    0.798756  0.805528  0.496951         0\n  8  Si    0.430632  0.357973  0.518096         0\n  9  Si    0.411735  0.505295  0.616779        -0\n 10  Si    0.592646  0.300217  0.616755         0\n 11  Si    0.14629   0.607776  0.559287        -0\n 12  Si    0.597438  0.946999  0.044972        -0\n 13  Si    0.72115   0.058314  0.621902         0\n 14  Si    0.488975  0.294664  0.877119        -0\n 15  Si    0.86663   0.198443  0.18845          0\n 16  Si    0.327673  0.074702  0.695273         0\n 17  Si    0.565131  0.267866  0.092292        -0\n 18  Si    0.434364  0.857172  0.270596        -0\n 19  Si    0.227873  0.493428  0.992443         0\n 20  Si    0.610235  0.575108  0.616468         0\n 21  Si    0.529825  0.77533   0.18154          0\n 22  Si    0.44856   0.003356  0.479942        -0\n 23  Si    0.726616  0.592429  0.481293         0\n 24  Si    0.506739  0.173206  0.333624        -0\n 25  Si    0.852873  0.007297  0.53338         -0\n 26  Si    0.022688  0.557479  0.152499        -0\n 27  Si    0.361053  0.281229  0.704309         0\n 28  Si    0.909917  0.38475   0.073738         0\n 29  Si    0.201922  0.446727  0.521964        -0\n 30  Si    0.73899   0.393778  0.513309        -0\n 31  Si    0.597355  0.630356  0.319117        -0\n 32  Si    0.628111  0.774797  0.574139         0\n 33  Si    0.006545  0.834217  0.187248         0\n 34  Si    0.919786  0.587521  0.794831         0\n 35  Si    0.188947  0.324891  0.709367        -0\n 36  Si    0.971621  0.784064  0.712241        -0\n 37  Si    0.677931  0.587787  0.186437        -0\n 38  Si    0.663774  0.862258  0.730648         0\n 39  Si    0.805486  0.773158  0.170723        -0\n 40  Si    0.374444  0.137731  0.995004         0\n 41  Si    0.560178  0.905844  0.428439         0\n 42  Si    0.229581  0.879195  0.072107        -0\n 43  Si    0.224186  0.045953  0.51696          0\n 44  Si    0.20971   0.67341   0.123565         0\n 45  Si    0.280714  0.702937  0.323217        -0\n 46  Si    0.782478  0.872887  0.304435         0\n 47  Si    0.655759  0.316225  0.805924        -0\n 48  Si    0.937643  0.971736  0.913315         0\n 49  Si    0.003756  0.357206  0.462932         0\n 50  Si    0.592922  0.998515  0.808427         0\n 51  Si    0.251132  0.937115  0.397289        -0\n 52  Si    0.532271  0.101755  0.63192          0\n 53  Si    0.866724  0.178911  0.72769          0\n 54  Si    0.18756   0.512156  0.746411        -0\n 55  Si    0.731582  0.420413  0.054061         0\n 56  Si    0.984209  0.933175  0.327459         0\n 57  Si    0.982216  0.308332  0.954562         0\n 58  Si    0.126676  0.634322  0.933336        -0\n 59  Si    0.74185   0.603323  0.940599         0\n 60  Si    0.400529  0.822217  0.635747        -0\n 61  Si    0.399088  0.955374  0.986285        -0\n 62  Si    0.842703  0.178125  0.387301         0\n 63  Si    0.722349  0.51947   0.784047         0\n 64  Si    0.000142  0.4419    0.779155         0\n 65  Si    0.048006  0.034688  0.097704        -0\n 66  Si    0.082378  0.870789  0.914797        -0\n 67  Si    0.44254   0.72758   0.903407        -0\n 68  Si    0.948588  0.508837  0.32413          0\n 69  Si    0.141953  0.035747  0.764102        -0\n 70  Si    0.452724  0.337364  0.212355        -0\n 71  Si    0.058131  0.167223  0.812039        -0\n 72  Si    0.377564  0.899321  0.811413         0\n 73  Si    0.745962  0.162165  0.858152        -0\n 74  Si    0.502099  0.513133  0.082043         0\n 75  Si    0.034896  0.131417  0.253221         0\n 76  Si    0.34629   0.673787  0.521909         0\n 77  Si    0.659746  0.111955  0.134351        -0\n 78  Si    0.762359  0.434348  0.244182         0\n 79  Si    0.140221  0.322557  0.10338          0\n 80  Si    0.2847    0.380267  0.896476         0\n 81  Si    0.006768  0.833039  0.520574         0\n 82  Si    0.384973  0.608619  0.7631           0\n 83  Si    0.195226  0.800105  0.600932        -0\n 84  Si    0.763549  0.896963  0.003778        -0\n 85  Si    0.953811  0.671221  0.972723         0\n 86  Si    0.439216  0.055826  0.191433         0\n 87  Si    0.281144  0.235658  0.415353        -0\n 88  Si    0.38505   0.636834  0.079814         0\n 89  Si    0.192314  0.188636  0.98517          0\n 90  Si    0.238864  0.022601  0.201201         0\n 91  Si    0.268804  0.221757  0.223167         0\n 92  Si    0.642858  0.750104  0.909351         0\n 93  Si    0.445337  0.467144  0.336085        -0\n 94  Si    0.104444  0.391152  0.254441         0\n 95  Si    0.869698  0.115372  0.022209        -0\n 96  Si    0.910298  0.359812  0.615153         0\n 97  Si    0.172995  0.792798  0.791733        -0\n 98  Si    0.978013  0.641187  0.449073         0\n 99  Si    0.479965  0.47837   0.899187        -0",
         "0.34929145859999905"
        ],
        [
         "4",
         "C",
         "Full Formula (C80)\nReduced Formula: C\nabc   :   7.571152   9.190471  23.546004\nangles:  97.892904  96.750659 104.975528\npbc   :       True       True       True\nSites (80)\n  #  SP           a         b         c    magmom\n---  ----  --------  --------  --------  --------\n  0  C     0.274381  0.493366  0.004922         0\n  1  C     0.43361   0.480803  0.997758         0\n  2  C     0.577207  0.485377  0.036976         0\n  3  C     0.667848  0.519697  0.087519         0\n  4  C     0.675754  0.584601  0.145656         0\n  5  C     0.813343  0.650531  0.193971        -0\n  6  C     0.886498  0.724528  0.242853         0\n  7  C     0.879332  0.819001  0.292334        -0\n  8  C     0.884953  0.869249  0.351301         0\n  9  C     0.723445  0.857703  0.310872         0\n 10  C     0.538792  0.805627  0.317462        -0\n 11  C     0.413856  0.746132  0.265325         0\n 12  C     0.341064  0.696732  0.214022        -0\n 13  C     0.336863  0.631831  0.155377         0\n 14  C     0.198407  0.548866  0.047863        -0\n 15  C     0.216604  0.592234  0.101763         0\n 16  C     0.504078  0.605999  0.150762        -0\n 17  C     0.678689  0.818491  0.415872        -0\n 18  C     0.842341  0.850957  0.405835         0\n 19  C     0.507365  0.772036  0.376645        -0\n 20  C     0.781632  0.94723   0.066661        -0\n 21  C     0.623607  0.968814  0.068205         0\n 22  C     0.568947  0.052347  0.109919        -0\n 23  C     0.607146  0.145433  0.157003         0\n 24  C     0.7553    0.206653  0.20034         -0\n 25  C     0.855765  0.26277   0.255975         0\n 26  C     0.872565  0.31527   0.315499        -0\n 27  C     0.996246  0.358799  0.358931         0\n 28  C     0.157153  0.397756  0.398682        -0\n 29  C     0.276131  0.298128  0.391487         0\n 30  C     0.393179  0.280762  0.347364         0\n 31  C     0.345019  0.227003  0.288792         0\n 32  C     0.247712  0.182235  0.240363        -0\n 33  C     0.094435  0.150746  0.195433         0\n 34  C     0.955017  0.992179  0.094282         0\n 35  C     0.061013  0.060913  0.140452        -0\n 36  C     0.946302  0.205486  0.212996        -0\n 37  C     0.311891  0.536496  0.398451         0\n 38  C     0.348093  0.674705  0.386694        -0\n 39  C     0.437538  0.414595  0.388844         0\n 40  C     0.952446  0.540163  0.55484          0\n 41  C     0.796624  0.567066  0.557353         0\n 42  C     0.741229  0.625144  0.604482        -0\n 43  C     0.760468  0.697424  0.655522         0\n 44  C     0.871136  0.751544  0.710255         0\n 45  C     0.853133  0.809223  0.766985         0\n 46  C     0.900571  0.849154  0.820025        -0\n 47  C     0.012607  0.850906  0.87116          0\n 48  C     0.14332   0.916182  0.922654        -0\n 49  C     0.18096   0.813579  0.877608         0\n 50  C     0.359354  0.830514  0.860101         0\n 51  C     0.35674   0.761753  0.80251         -0\n 52  C     0.313683  0.717858  0.74949          0\n 53  C     0.200425  0.692196  0.694571         0\n 54  C     0.120463  0.579511  0.585673         0\n 55  C     0.202219  0.628884  0.637098        -0\n 56  C     0.038066  0.727226  0.701161        -0\n 57  C     0.416578  0.012548  0.939662         0\n 58  C     0.273387  0.039597  0.962327        -0\n 59  C     0.493538  0.948677  0.899849        -0\n 60  C     0.613663  0.36892   0.879189         0\n 61  C     0.753858  0.321342  0.890798        -0\n 62  C     0.845524  0.25254   0.856006        -0\n 63  C     0.87333   0.208326  0.805746         0\n 64  C     0.786595  0.194654  0.750241        -0\n 65  C     0.727819  0.143135  0.690625         0\n 66  C     0.717683  0.058826  0.636372        -0\n 67  C     0.669488  0.030414  0.583109         0\n 68  C     0.558784  0.038657  0.531765        -0\n 69  C     0.396899  0.077168  0.545979         0\n 70  C     0.30869   0.17998   0.564252        -0\n 71  C     0.302843  0.25689   0.618554         0\n 72  C     0.370075  0.284729  0.670538        -0\n 73  C     0.483902  0.300663  0.724173         0\n 74  C     0.461913  0.363338  0.779528         0\n 75  C     0.507799  0.389751  0.833424        -0\n 76  C     0.63335   0.234089  0.720646        -0\n 77  C     0.438061  0.137058  0.472622        -0\n 78  C     0.592128  0.087382  0.477134         0\n 79  C     0.317329  0.176704  0.503216         0",
         "1.4104997176249991"
        ]
       ],
       "shape": {
        "columns": 3,
        "rows": 5
       }
      },
      "text/html": [
       "<div>\n",
       "<style scoped>\n",
       "    .dataframe tbody tr th:only-of-type {\n",
       "        vertical-align: middle;\n",
       "    }\n",
       "\n",
       "    .dataframe tbody tr th {\n",
       "        vertical-align: top;\n",
       "    }\n",
       "\n",
       "    .dataframe thead th {\n",
       "        text-align: right;\n",
       "    }\n",
       "</style>\n",
       "<table border=\"1\" class=\"dataframe\">\n",
       "  <thead>\n",
       "    <tr style=\"text-align: right;\">\n",
       "      <th></th>\n",
       "      <th>formula</th>\n",
       "      <th>structure</th>\n",
       "      <th>formation_energy_per_atom</th>\n",
       "    </tr>\n",
       "  </thead>\n",
       "  <tbody>\n",
       "    <tr>\n",
       "      <th>0</th>\n",
       "      <td>O2</td>\n",
       "      <td>[[4.40802865 2.5939677  5.82250118] O, [0.4294...</td>\n",
       "      <td>0.387014</td>\n",
       "    </tr>\n",
       "    <tr>\n",
       "      <th>1</th>\n",
       "      <td>Si</td>\n",
       "      <td>[[3.02219719 3.56784026 2.0565257 ] Si, [0.964...</td>\n",
       "      <td>0.372510</td>\n",
       "    </tr>\n",
       "    <tr>\n",
       "      <th>2</th>\n",
       "      <td>O2</td>\n",
       "      <td>[[1.99968417 3.6935332  3.93966005] O, [2.7593...</td>\n",
       "      <td>0.419854</td>\n",
       "    </tr>\n",
       "    <tr>\n",
       "      <th>3</th>\n",
       "      <td>Si</td>\n",
       "      <td>[[0.18969876 3.07592306 5.37172487] Si, [-0.21...</td>\n",
       "      <td>0.349291</td>\n",
       "    </tr>\n",
       "    <tr>\n",
       "      <th>4</th>\n",
       "      <td>C</td>\n",
       "      <td>[[0.89207355 4.36014687 0.11331792] C, [-0.620...</td>\n",
       "      <td>1.410500</td>\n",
       "    </tr>\n",
       "  </tbody>\n",
       "</table>\n",
       "</div>"
      ],
      "text/plain": [
       "  formula                                          structure   \n",
       "0      O2  [[4.40802865 2.5939677  5.82250118] O, [0.4294...  \\\n",
       "1      Si  [[3.02219719 3.56784026 2.0565257 ] Si, [0.964...   \n",
       "2      O2  [[1.99968417 3.6935332  3.93966005] O, [2.7593...   \n",
       "3      Si  [[0.18969876 3.07592306 5.37172487] Si, [-0.21...   \n",
       "4       C  [[0.89207355 4.36014687 0.11331792] C, [-0.620...   \n",
       "\n",
       "   formation_energy_per_atom  \n",
       "0                   0.387014  \n",
       "1                   0.372510  \n",
       "2                   0.419854  \n",
       "3                   0.349291  \n",
       "4                   1.410500  "
      ]
     },
     "execution_count": 36,
     "metadata": {},
     "output_type": "execute_result"
    }
   ],
   "source": [
    "df.head()"
   ]
  },
  {
   "cell_type": "markdown",
   "id": "730f0d8a",
   "metadata": {},
   "source": [
    "# Featurization"
   ]
  },
  {
   "cell_type": "code",
   "execution_count": 37,
   "id": "3315d122",
   "metadata": {},
   "outputs": [
    {
     "data": {
      "application/vnd.jupyter.widget-view+json": {
       "model_id": "82af0dbcba46416f955991435dfdc235",
       "version_major": 2,
       "version_minor": 0
      },
      "text/plain": [
       "ElementProperty:   0%|          | 0/4500 [00:00<?, ?it/s]"
      ]
     },
     "metadata": {},
     "output_type": "display_data"
    }
   ],
   "source": [
    "# 🧩 4. Feature Engineering\n",
    "df['composition'] = df['formula'].apply(Composition)\n",
    "\n",
    "# Composition Features\n",
    "ep_feat = ElementProperty.from_preset(preset_name=\"magpie\")\n",
    "df = ep_feat.featurize_dataframe(df, col_id='composition', ignore_errors=True)\n",
    "\n",
    "# Structure Features\n",
    "structure_features = []\n",
    "for s in df['structure']:\n",
    "    features = {}\n",
    "    try:\n",
    "        dens_feat = DensityFeatures().featurize(s)\n",
    "        features.update(dict(zip(DensityFeatures().feature_labels(), dens_feat)))\n",
    "\n",
    "        gsf_feat = GlobalSymmetryFeatures().featurize(s)\n",
    "        features.update(dict(zip(GlobalSymmetryFeatures().feature_labels(), gsf_feat)))\n",
    "    except Exception as e:\n",
    "        features = {f: np.nan for f in features.keys()}\n",
    "    structure_features.append(features)\n",
    "\n",
    "structure_df = pd.DataFrame(structure_features)"
   ]
  },
  {
   "cell_type": "markdown",
   "id": "6ade74dd",
   "metadata": {},
   "source": [
    "# Data curing"
   ]
  },
  {
   "cell_type": "code",
   "execution_count": 42,
   "id": "a10aca8a",
   "metadata": {},
   "outputs": [],
   "source": [
    "# Merge composition and structure features\n",
    "X = pd.concat([df, structure_df], axis=1)\n",
    "\n",
    "# Drop columns that aren't features\n",
    "X = X.drop(columns=['composition', 'structure', 'formation_energy_per_atom'])\n",
    "\n",
    "# Drop rows with any missing values\n",
    "X = X.dropna()\n",
    "\n",
    "# Now align y with the rows that remain in X\n",
    "# Since we dropped rows in X, the index might be different.\n",
    "y = df.loc[X.index, 'formation_energy_per_atom']"
   ]
  },
  {
   "cell_type": "code",
   "execution_count": 45,
   "id": "141be17e",
   "metadata": {},
   "outputs": [
    {
     "name": "stdout",
     "output_type": "stream",
     "text": [
      "0    0.387014\n",
      "1    0.372510\n",
      "2    0.419854\n",
      "3    0.349291\n",
      "4    1.410500\n",
      "Name: formation_energy_per_atom, dtype: float64\n"
     ]
    }
   ],
   "source": [
    "#print(X[:5])\n",
    "print(y[:5])"
   ]
  },
  {
   "cell_type": "code",
   "execution_count": 49,
   "id": "af1b060d",
   "metadata": {},
   "outputs": [
    {
     "name": "stdout",
     "output_type": "stream",
     "text": [
      "formula                       object\n",
      "MagpieData minimum Number    float64\n",
      "MagpieData maximum Number    float64\n",
      "MagpieData range Number      float64\n",
      "MagpieData mean Number       float64\n",
      "                              ...   \n",
      "crystal_system                object\n",
      "crystal_system_int           float64\n",
      "is_centrosymmetric            object\n",
      "n_symmetry_ops               float64\n",
      "target                       float64\n",
      "Length: 142, dtype: object\n"
     ]
    }
   ],
   "source": [
    "model_data = pd.concat([X, y], axis=1)\n",
    "model_data.rename(columns={'formation_energy_per_atom': 'target'}, inplace=True)\n",
    "print(model_data.dtypes)"
   ]
  },
  {
   "cell_type": "code",
   "execution_count": 50,
   "id": "e81b312e",
   "metadata": {},
   "outputs": [
    {
     "name": "stdout",
     "output_type": "stream",
     "text": [
      "Non-numeric columns: Index(['formula', 'crystal_system', 'is_centrosymmetric'], dtype='object')\n"
     ]
    }
   ],
   "source": [
    "non_numeric_cols = model_data.select_dtypes(include=['object']).columns\n",
    "print(\"Non-numeric columns:\", non_numeric_cols)"
   ]
  },
  {
   "cell_type": "code",
   "execution_count": 113,
   "id": "e526ad7f",
   "metadata": {},
   "outputs": [
    {
     "name": "stdout",
     "output_type": "stream",
     "text": [
      "MagpieData minimum Number      float64\n",
      "MagpieData maximum Number      float64\n",
      "MagpieData range Number        float64\n",
      "MagpieData mean Number         float64\n",
      "MagpieData avg_dev Number      float64\n",
      "                                ...   \n",
      "crystal_system_monoclinic         bool\n",
      "crystal_system_orthorhombic       bool\n",
      "crystal_system_tetragonal         bool\n",
      "crystal_system_triclinic          bool\n",
      "crystal_system_trigonal           bool\n",
      "Length: 147, dtype: object\n",
      "cleaned dataset size for model training and validation: (4200, 147)\n",
      "cleaned Unseen dataset size: (278, 147)\n"
     ]
    }
   ],
   "source": [
    "# Make a copy of your model_data\n",
    "model_data_clean = model_data.copy()\n",
    "\n",
    "# Drop 'formula' (we already extracted features from it)\n",
    "model_data_clean = model_data_clean.drop(columns=['formula'])\n",
    "\n",
    "# Handle 'crystal_system' (one-hot encoding)\n",
    "model_data_clean = pd.get_dummies(model_data_clean, columns=['crystal_system'])\n",
    "\n",
    "# Handle 'is_centrosymmetric' (map True/False to 1/0)\n",
    "# In some cases it might be a string, so let's handle both cases robustly\n",
    "model_data_clean['is_centrosymmetric'] = model_data_clean['is_centrosymmetric'].map({\n",
    "    True: 1, False: 0, \n",
    "    'True': 1, 'False': 0\n",
    "})\n",
    "\n",
    "# Save the last 278 rows as unseen data\n",
    "unseen_data = model_data_clean.tail(278)\n",
    "model_data_clean = model_data_clean.iloc[:-278]  # saves the rest for model training and optimization\n",
    "\n",
    "# Reset index for both datasets\n",
    "model_data_clean.reset_index(drop=True, inplace=True)\n",
    "unseen_data.reset_index(drop=True, inplace=True)\n",
    "\n",
    "# Double-check dtypes\n",
    "print(model_data_clean.dtypes)\n",
    "print( \"cleaned dataset size for model training and validation:\", model_data_clean.shape)\n",
    "print( \"cleaned Unseen dataset size:\", unseen_data.shape)\n"
   ]
  },
  {
   "cell_type": "code",
   "execution_count": 114,
   "id": "d1313e1b",
   "metadata": {},
   "outputs": [
    {
     "name": "stdout",
     "output_type": "stream",
     "text": [
      "Non-numeric columns: Index([], dtype='object')\n"
     ]
    }
   ],
   "source": [
    "non_numeric_cols_clean = model_data_clean.select_dtypes(include=['object']).columns\n",
    "print(\"Non-numeric columns:\", non_numeric_cols_clean)"
   ]
  },
  {
   "cell_type": "markdown",
   "id": "7cc733b2",
   "metadata": {},
   "source": [
    "# Model Selection :\n",
    "Pycaret is used.  \n",
    "https://pycaret.gitbook.io/docs  \n",
    "Models were choosen based on sorting metrics: 1. mean absolute error (mae), i.e., focusing on prediction accuracy  2. R2 score, i.e., focusing on capturing the variance in the training dataset."
   ]
  },
  {
   "cell_type": "markdown",
   "id": "b0b0d895",
   "metadata": {},
   "source": [
    "1. Model Selection: Metric 'mae'"
   ]
  },
  {
   "cell_type": "code",
   "execution_count": 116,
   "id": "6f229aeb",
   "metadata": {},
   "outputs": [
    {
     "data": {
      "text/html": [],
      "text/plain": [
       "<IPython.core.display.HTML object>"
      ]
     },
     "metadata": {},
     "output_type": "display_data"
    },
    {
     "data": {
      "text/html": [
       "<style type=\"text/css\">\n",
       "#T_8f145 th {\n",
       "  text-align: left;\n",
       "}\n",
       "#T_8f145_row0_col0, #T_8f145_row0_col2, #T_8f145_row0_col3, #T_8f145_row0_col4, #T_8f145_row0_col5, #T_8f145_row1_col0, #T_8f145_row1_col1, #T_8f145_row1_col2, #T_8f145_row1_col3, #T_8f145_row1_col4, #T_8f145_row1_col6, #T_8f145_row2_col0, #T_8f145_row2_col1, #T_8f145_row2_col2, #T_8f145_row2_col3, #T_8f145_row2_col4, #T_8f145_row2_col5, #T_8f145_row2_col6, #T_8f145_row3_col0, #T_8f145_row3_col1, #T_8f145_row3_col2, #T_8f145_row3_col3, #T_8f145_row3_col4, #T_8f145_row3_col5, #T_8f145_row3_col6, #T_8f145_row4_col0, #T_8f145_row4_col1, #T_8f145_row4_col5, #T_8f145_row4_col6, #T_8f145_row5_col0, #T_8f145_row5_col1, #T_8f145_row5_col2, #T_8f145_row5_col3, #T_8f145_row5_col4, #T_8f145_row5_col5, #T_8f145_row5_col6, #T_8f145_row6_col0, #T_8f145_row6_col1, #T_8f145_row6_col2, #T_8f145_row6_col3, #T_8f145_row6_col4, #T_8f145_row6_col5, #T_8f145_row6_col6, #T_8f145_row7_col0, #T_8f145_row7_col1, #T_8f145_row7_col2, #T_8f145_row7_col3, #T_8f145_row7_col4, #T_8f145_row7_col5, #T_8f145_row7_col6, #T_8f145_row8_col0, #T_8f145_row8_col1, #T_8f145_row8_col2, #T_8f145_row8_col3, #T_8f145_row8_col4, #T_8f145_row8_col5, #T_8f145_row8_col6, #T_8f145_row9_col0, #T_8f145_row9_col1, #T_8f145_row9_col2, #T_8f145_row9_col3, #T_8f145_row9_col4, #T_8f145_row9_col5, #T_8f145_row9_col6, #T_8f145_row10_col0, #T_8f145_row10_col1, #T_8f145_row10_col2, #T_8f145_row10_col3, #T_8f145_row10_col4, #T_8f145_row10_col5, #T_8f145_row10_col6, #T_8f145_row11_col0, #T_8f145_row11_col1, #T_8f145_row11_col2, #T_8f145_row11_col3, #T_8f145_row11_col4, #T_8f145_row11_col5, #T_8f145_row11_col6, #T_8f145_row12_col0, #T_8f145_row12_col1, #T_8f145_row12_col2, #T_8f145_row12_col3, #T_8f145_row12_col4, #T_8f145_row12_col5, #T_8f145_row12_col6, #T_8f145_row13_col0, #T_8f145_row13_col1, #T_8f145_row13_col2, #T_8f145_row13_col3, #T_8f145_row13_col4, #T_8f145_row13_col5, #T_8f145_row13_col6, #T_8f145_row14_col0, #T_8f145_row14_col1, #T_8f145_row14_col2, #T_8f145_row14_col3, #T_8f145_row14_col4, #T_8f145_row14_col5, #T_8f145_row14_col6, #T_8f145_row15_col0, #T_8f145_row15_col1, #T_8f145_row15_col2, #T_8f145_row15_col3, #T_8f145_row15_col4, #T_8f145_row15_col5, #T_8f145_row15_col6, #T_8f145_row16_col0, #T_8f145_row16_col1, #T_8f145_row16_col2, #T_8f145_row16_col3, #T_8f145_row16_col4, #T_8f145_row16_col5, #T_8f145_row16_col6, #T_8f145_row17_col0, #T_8f145_row17_col1, #T_8f145_row17_col2, #T_8f145_row17_col3, #T_8f145_row17_col4, #T_8f145_row17_col5, #T_8f145_row17_col6, #T_8f145_row18_col0, #T_8f145_row18_col1, #T_8f145_row18_col2, #T_8f145_row18_col3, #T_8f145_row18_col4, #T_8f145_row18_col5, #T_8f145_row18_col6, #T_8f145_row19_col0, #T_8f145_row19_col1, #T_8f145_row19_col2, #T_8f145_row19_col3, #T_8f145_row19_col4, #T_8f145_row19_col5, #T_8f145_row19_col6 {\n",
       "  text-align: left;\n",
       "}\n",
       "#T_8f145_row0_col1, #T_8f145_row0_col6, #T_8f145_row1_col5, #T_8f145_row4_col2, #T_8f145_row4_col3, #T_8f145_row4_col4 {\n",
       "  text-align: left;\n",
       "  background-color: yellow;\n",
       "}\n",
       "#T_8f145_row0_col7, #T_8f145_row1_col7, #T_8f145_row2_col7, #T_8f145_row3_col7, #T_8f145_row4_col7, #T_8f145_row5_col7, #T_8f145_row6_col7, #T_8f145_row7_col7, #T_8f145_row8_col7, #T_8f145_row9_col7, #T_8f145_row10_col7, #T_8f145_row11_col7, #T_8f145_row12_col7, #T_8f145_row13_col7, #T_8f145_row14_col7, #T_8f145_row16_col7, #T_8f145_row17_col7, #T_8f145_row18_col7, #T_8f145_row19_col7 {\n",
       "  text-align: left;\n",
       "  background-color: lightgrey;\n",
       "}\n",
       "#T_8f145_row15_col7 {\n",
       "  text-align: left;\n",
       "  background-color: yellow;\n",
       "  background-color: lightgrey;\n",
       "}\n",
       "</style>\n",
       "<table id=\"T_8f145\">\n",
       "  <thead>\n",
       "    <tr>\n",
       "      <th class=\"blank level0\" >&nbsp;</th>\n",
       "      <th id=\"T_8f145_level0_col0\" class=\"col_heading level0 col0\" >Model</th>\n",
       "      <th id=\"T_8f145_level0_col1\" class=\"col_heading level0 col1\" >MAE</th>\n",
       "      <th id=\"T_8f145_level0_col2\" class=\"col_heading level0 col2\" >MSE</th>\n",
       "      <th id=\"T_8f145_level0_col3\" class=\"col_heading level0 col3\" >RMSE</th>\n",
       "      <th id=\"T_8f145_level0_col4\" class=\"col_heading level0 col4\" >R2</th>\n",
       "      <th id=\"T_8f145_level0_col5\" class=\"col_heading level0 col5\" >RMSLE</th>\n",
       "      <th id=\"T_8f145_level0_col6\" class=\"col_heading level0 col6\" >MAPE</th>\n",
       "      <th id=\"T_8f145_level0_col7\" class=\"col_heading level0 col7\" >TT (Sec)</th>\n",
       "    </tr>\n",
       "  </thead>\n",
       "  <tbody>\n",
       "    <tr>\n",
       "      <th id=\"T_8f145_level0_row0\" class=\"row_heading level0 row0\" >et</th>\n",
       "      <td id=\"T_8f145_row0_col0\" class=\"data row0 col0\" >Extra Trees Regressor</td>\n",
       "      <td id=\"T_8f145_row0_col1\" class=\"data row0 col1\" >0.1837</td>\n",
       "      <td id=\"T_8f145_row0_col2\" class=\"data row0 col2\" >0.2305</td>\n",
       "      <td id=\"T_8f145_row0_col3\" class=\"data row0 col3\" >0.4761</td>\n",
       "      <td id=\"T_8f145_row0_col4\" class=\"data row0 col4\" >0.8097</td>\n",
       "      <td id=\"T_8f145_row0_col5\" class=\"data row0 col5\" >0.1809</td>\n",
       "      <td id=\"T_8f145_row0_col6\" class=\"data row0 col6\" >972184247.7405</td>\n",
       "      <td id=\"T_8f145_row0_col7\" class=\"data row0 col7\" >1.3680</td>\n",
       "    </tr>\n",
       "    <tr>\n",
       "      <th id=\"T_8f145_level0_row1\" class=\"row_heading level0 row1\" >catboost</th>\n",
       "      <td id=\"T_8f145_row1_col0\" class=\"data row1 col0\" >CatBoost Regressor</td>\n",
       "      <td id=\"T_8f145_row1_col1\" class=\"data row1 col1\" >0.1871</td>\n",
       "      <td id=\"T_8f145_row1_col2\" class=\"data row1 col2\" >0.1890</td>\n",
       "      <td id=\"T_8f145_row1_col3\" class=\"data row1 col3\" >0.4310</td>\n",
       "      <td id=\"T_8f145_row1_col4\" class=\"data row1 col4\" >0.8435</td>\n",
       "      <td id=\"T_8f145_row1_col5\" class=\"data row1 col5\" >0.1711</td>\n",
       "      <td id=\"T_8f145_row1_col6\" class=\"data row1 col6\" >4739995814.4321</td>\n",
       "      <td id=\"T_8f145_row1_col7\" class=\"data row1 col7\" >5.7980</td>\n",
       "    </tr>\n",
       "    <tr>\n",
       "      <th id=\"T_8f145_level0_row2\" class=\"row_heading level0 row2\" >xgboost</th>\n",
       "      <td id=\"T_8f145_row2_col0\" class=\"data row2 col0\" >Extreme Gradient Boosting</td>\n",
       "      <td id=\"T_8f145_row2_col1\" class=\"data row2 col1\" >0.1927</td>\n",
       "      <td id=\"T_8f145_row2_col2\" class=\"data row2 col2\" >0.2125</td>\n",
       "      <td id=\"T_8f145_row2_col3\" class=\"data row2 col3\" >0.4562</td>\n",
       "      <td id=\"T_8f145_row2_col4\" class=\"data row2 col4\" >0.8240</td>\n",
       "      <td id=\"T_8f145_row2_col5\" class=\"data row2 col5\" >0.1772</td>\n",
       "      <td id=\"T_8f145_row2_col6\" class=\"data row2 col6\" >3752231339.4052</td>\n",
       "      <td id=\"T_8f145_row2_col7\" class=\"data row2 col7\" >0.4620</td>\n",
       "    </tr>\n",
       "    <tr>\n",
       "      <th id=\"T_8f145_level0_row3\" class=\"row_heading level0 row3\" >rf</th>\n",
       "      <td id=\"T_8f145_row3_col0\" class=\"data row3 col0\" >Random Forest Regressor</td>\n",
       "      <td id=\"T_8f145_row3_col1\" class=\"data row3 col1\" >0.1970</td>\n",
       "      <td id=\"T_8f145_row3_col2\" class=\"data row3 col2\" >0.2064</td>\n",
       "      <td id=\"T_8f145_row3_col3\" class=\"data row3 col3\" >0.4516</td>\n",
       "      <td id=\"T_8f145_row3_col4\" class=\"data row3 col4\" >0.8294</td>\n",
       "      <td id=\"T_8f145_row3_col5\" class=\"data row3 col5\" >0.1787</td>\n",
       "      <td id=\"T_8f145_row3_col6\" class=\"data row3 col6\" >1107221074.8849</td>\n",
       "      <td id=\"T_8f145_row3_col7\" class=\"data row3 col7\" >2.5640</td>\n",
       "    </tr>\n",
       "    <tr>\n",
       "      <th id=\"T_8f145_level0_row4\" class=\"row_heading level0 row4\" >lightgbm</th>\n",
       "      <td id=\"T_8f145_row4_col0\" class=\"data row4 col0\" >Light Gradient Boosting Machine</td>\n",
       "      <td id=\"T_8f145_row4_col1\" class=\"data row4 col1\" >0.2011</td>\n",
       "      <td id=\"T_8f145_row4_col2\" class=\"data row4 col2\" >0.1801</td>\n",
       "      <td id=\"T_8f145_row4_col3\" class=\"data row4 col3\" >0.4234</td>\n",
       "      <td id=\"T_8f145_row4_col4\" class=\"data row4 col4\" >0.8514</td>\n",
       "      <td id=\"T_8f145_row4_col5\" class=\"data row4 col5\" >0.1729</td>\n",
       "      <td id=\"T_8f145_row4_col6\" class=\"data row4 col6\" >10796619017.5757</td>\n",
       "      <td id=\"T_8f145_row4_col7\" class=\"data row4 col7\" >0.4440</td>\n",
       "    </tr>\n",
       "    <tr>\n",
       "      <th id=\"T_8f145_level0_row5\" class=\"row_heading level0 row5\" >gbr</th>\n",
       "      <td id=\"T_8f145_row5_col0\" class=\"data row5 col0\" >Gradient Boosting Regressor</td>\n",
       "      <td id=\"T_8f145_row5_col1\" class=\"data row5 col1\" >0.2420</td>\n",
       "      <td id=\"T_8f145_row5_col2\" class=\"data row5 col2\" >0.2160</td>\n",
       "      <td id=\"T_8f145_row5_col3\" class=\"data row5 col3\" >0.4633</td>\n",
       "      <td id=\"T_8f145_row5_col4\" class=\"data row5 col4\" >0.8219</td>\n",
       "      <td id=\"T_8f145_row5_col5\" class=\"data row5 col5\" >0.1966</td>\n",
       "      <td id=\"T_8f145_row5_col6\" class=\"data row5 col6\" >12665403839.8581</td>\n",
       "      <td id=\"T_8f145_row5_col7\" class=\"data row5 col7\" >0.7380</td>\n",
       "    </tr>\n",
       "    <tr>\n",
       "      <th id=\"T_8f145_level0_row6\" class=\"row_heading level0 row6\" >dt</th>\n",
       "      <td id=\"T_8f145_row6_col0\" class=\"data row6 col0\" >Decision Tree Regressor</td>\n",
       "      <td id=\"T_8f145_row6_col1\" class=\"data row6 col1\" >0.2512</td>\n",
       "      <td id=\"T_8f145_row6_col2\" class=\"data row6 col2\" >0.3930</td>\n",
       "      <td id=\"T_8f145_row6_col3\" class=\"data row6 col3\" >0.6192</td>\n",
       "      <td id=\"T_8f145_row6_col4\" class=\"data row6 col4\" >0.6747</td>\n",
       "      <td id=\"T_8f145_row6_col5\" class=\"data row6 col5\" >0.2197</td>\n",
       "      <td id=\"T_8f145_row6_col6\" class=\"data row6 col6\" >6614689174.1288</td>\n",
       "      <td id=\"T_8f145_row6_col7\" class=\"data row6 col7\" >0.3820</td>\n",
       "    </tr>\n",
       "    <tr>\n",
       "      <th id=\"T_8f145_level0_row7\" class=\"row_heading level0 row7\" >knn</th>\n",
       "      <td id=\"T_8f145_row7_col0\" class=\"data row7 col0\" >K Neighbors Regressor</td>\n",
       "      <td id=\"T_8f145_row7_col1\" class=\"data row7 col1\" >0.3539</td>\n",
       "      <td id=\"T_8f145_row7_col2\" class=\"data row7 col2\" >0.3742</td>\n",
       "      <td id=\"T_8f145_row7_col3\" class=\"data row7 col3\" >0.6111</td>\n",
       "      <td id=\"T_8f145_row7_col4\" class=\"data row7 col4\" >0.6916</td>\n",
       "      <td id=\"T_8f145_row7_col5\" class=\"data row7 col5\" >0.2649</td>\n",
       "      <td id=\"T_8f145_row7_col6\" class=\"data row7 col6\" >2565593528.6978</td>\n",
       "      <td id=\"T_8f145_row7_col7\" class=\"data row7 col7\" >0.2980</td>\n",
       "    </tr>\n",
       "    <tr>\n",
       "      <th id=\"T_8f145_level0_row8\" class=\"row_heading level0 row8\" >ridge</th>\n",
       "      <td id=\"T_8f145_row8_col0\" class=\"data row8 col0\" >Ridge Regression</td>\n",
       "      <td id=\"T_8f145_row8_col1\" class=\"data row8 col1\" >0.3775</td>\n",
       "      <td id=\"T_8f145_row8_col2\" class=\"data row8 col2\" >0.3535</td>\n",
       "      <td id=\"T_8f145_row8_col3\" class=\"data row8 col3\" >0.5932</td>\n",
       "      <td id=\"T_8f145_row8_col4\" class=\"data row8 col4\" >0.7089</td>\n",
       "      <td id=\"T_8f145_row8_col5\" class=\"data row8 col5\" >0.2549</td>\n",
       "      <td id=\"T_8f145_row8_col6\" class=\"data row8 col6\" >19555860508.5534</td>\n",
       "      <td id=\"T_8f145_row8_col7\" class=\"data row8 col7\" >0.2940</td>\n",
       "    </tr>\n",
       "    <tr>\n",
       "      <th id=\"T_8f145_level0_row9\" class=\"row_heading level0 row9\" >br</th>\n",
       "      <td id=\"T_8f145_row9_col0\" class=\"data row9 col0\" >Bayesian Ridge</td>\n",
       "      <td id=\"T_8f145_row9_col1\" class=\"data row9 col1\" >0.3779</td>\n",
       "      <td id=\"T_8f145_row9_col2\" class=\"data row9 col2\" >0.3598</td>\n",
       "      <td id=\"T_8f145_row9_col3\" class=\"data row9 col3\" >0.5984</td>\n",
       "      <td id=\"T_8f145_row9_col4\" class=\"data row9 col4\" >0.7037</td>\n",
       "      <td id=\"T_8f145_row9_col5\" class=\"data row9 col5\" >0.2544</td>\n",
       "      <td id=\"T_8f145_row9_col6\" class=\"data row9 col6\" >24901119209.4470</td>\n",
       "      <td id=\"T_8f145_row9_col7\" class=\"data row9 col7\" >0.2780</td>\n",
       "    </tr>\n",
       "    <tr>\n",
       "      <th id=\"T_8f145_level0_row10\" class=\"row_heading level0 row10\" >lr</th>\n",
       "      <td id=\"T_8f145_row10_col0\" class=\"data row10 col0\" >Linear Regression</td>\n",
       "      <td id=\"T_8f145_row10_col1\" class=\"data row10 col1\" >0.3789</td>\n",
       "      <td id=\"T_8f145_row10_col2\" class=\"data row10 col2\" >0.3533</td>\n",
       "      <td id=\"T_8f145_row10_col3\" class=\"data row10 col3\" >0.5931</td>\n",
       "      <td id=\"T_8f145_row10_col4\" class=\"data row10 col4\" >0.7090</td>\n",
       "      <td id=\"T_8f145_row10_col5\" class=\"data row10 col5\" >0.2545</td>\n",
       "      <td id=\"T_8f145_row10_col6\" class=\"data row10 col6\" >18865289651.8593</td>\n",
       "      <td id=\"T_8f145_row10_col7\" class=\"data row10 col7\" >0.3360</td>\n",
       "    </tr>\n",
       "    <tr>\n",
       "      <th id=\"T_8f145_level0_row11\" class=\"row_heading level0 row11\" >huber</th>\n",
       "      <td id=\"T_8f145_row11_col0\" class=\"data row11 col0\" >Huber Regressor</td>\n",
       "      <td id=\"T_8f145_row11_col1\" class=\"data row11 col1\" >0.4759</td>\n",
       "      <td id=\"T_8f145_row11_col2\" class=\"data row11 col2\" >0.5260</td>\n",
       "      <td id=\"T_8f145_row11_col3\" class=\"data row11 col3\" >0.7246</td>\n",
       "      <td id=\"T_8f145_row11_col4\" class=\"data row11 col4\" >0.5669</td>\n",
       "      <td id=\"T_8f145_row11_col5\" class=\"data row11 col5\" >0.2906</td>\n",
       "      <td id=\"T_8f145_row11_col6\" class=\"data row11 col6\" >14095640206.4797</td>\n",
       "      <td id=\"T_8f145_row11_col7\" class=\"data row11 col7\" >0.7800</td>\n",
       "    </tr>\n",
       "    <tr>\n",
       "      <th id=\"T_8f145_level0_row12\" class=\"row_heading level0 row12\" >en</th>\n",
       "      <td id=\"T_8f145_row12_col0\" class=\"data row12 col0\" >Elastic Net</td>\n",
       "      <td id=\"T_8f145_row12_col1\" class=\"data row12 col1\" >0.4795</td>\n",
       "      <td id=\"T_8f145_row12_col2\" class=\"data row12 col2\" >0.5302</td>\n",
       "      <td id=\"T_8f145_row12_col3\" class=\"data row12 col3\" >0.7274</td>\n",
       "      <td id=\"T_8f145_row12_col4\" class=\"data row12 col4\" >0.5635</td>\n",
       "      <td id=\"T_8f145_row12_col5\" class=\"data row12 col5\" >0.2960</td>\n",
       "      <td id=\"T_8f145_row12_col6\" class=\"data row12 col6\" >14771213135.7525</td>\n",
       "      <td id=\"T_8f145_row12_col7\" class=\"data row12 col7\" >0.3380</td>\n",
       "    </tr>\n",
       "    <tr>\n",
       "      <th id=\"T_8f145_level0_row13\" class=\"row_heading level0 row13\" >lasso</th>\n",
       "      <td id=\"T_8f145_row13_col0\" class=\"data row13 col0\" >Lasso Regression</td>\n",
       "      <td id=\"T_8f145_row13_col1\" class=\"data row13 col1\" >0.4881</td>\n",
       "      <td id=\"T_8f145_row13_col2\" class=\"data row13 col2\" >0.5458</td>\n",
       "      <td id=\"T_8f145_row13_col3\" class=\"data row13 col3\" >0.7381</td>\n",
       "      <td id=\"T_8f145_row13_col4\" class=\"data row13 col4\" >0.5507</td>\n",
       "      <td id=\"T_8f145_row13_col5\" class=\"data row13 col5\" >0.3008</td>\n",
       "      <td id=\"T_8f145_row13_col6\" class=\"data row13 col6\" >18037479866.9007</td>\n",
       "      <td id=\"T_8f145_row13_col7\" class=\"data row13 col7\" >0.3820</td>\n",
       "    </tr>\n",
       "    <tr>\n",
       "      <th id=\"T_8f145_level0_row14\" class=\"row_heading level0 row14\" >llar</th>\n",
       "      <td id=\"T_8f145_row14_col0\" class=\"data row14 col0\" >Lasso Least Angle Regression</td>\n",
       "      <td id=\"T_8f145_row14_col1\" class=\"data row14 col1\" >0.4881</td>\n",
       "      <td id=\"T_8f145_row14_col2\" class=\"data row14 col2\" >0.5458</td>\n",
       "      <td id=\"T_8f145_row14_col3\" class=\"data row14 col3\" >0.7381</td>\n",
       "      <td id=\"T_8f145_row14_col4\" class=\"data row14 col4\" >0.5507</td>\n",
       "      <td id=\"T_8f145_row14_col5\" class=\"data row14 col5\" >0.3008</td>\n",
       "      <td id=\"T_8f145_row14_col6\" class=\"data row14 col6\" >18044084257.3041</td>\n",
       "      <td id=\"T_8f145_row14_col7\" class=\"data row14 col7\" >0.2380</td>\n",
       "    </tr>\n",
       "    <tr>\n",
       "      <th id=\"T_8f145_level0_row15\" class=\"row_heading level0 row15\" >omp</th>\n",
       "      <td id=\"T_8f145_row15_col0\" class=\"data row15 col0\" >Orthogonal Matching Pursuit</td>\n",
       "      <td id=\"T_8f145_row15_col1\" class=\"data row15 col1\" >0.4977</td>\n",
       "      <td id=\"T_8f145_row15_col2\" class=\"data row15 col2\" >0.5520</td>\n",
       "      <td id=\"T_8f145_row15_col3\" class=\"data row15 col3\" >0.7423</td>\n",
       "      <td id=\"T_8f145_row15_col4\" class=\"data row15 col4\" >0.5456</td>\n",
       "      <td id=\"T_8f145_row15_col5\" class=\"data row15 col5\" >0.3005</td>\n",
       "      <td id=\"T_8f145_row15_col6\" class=\"data row15 col6\" >20201970108.9349</td>\n",
       "      <td id=\"T_8f145_row15_col7\" class=\"data row15 col7\" >0.1980</td>\n",
       "    </tr>\n",
       "    <tr>\n",
       "      <th id=\"T_8f145_level0_row16\" class=\"row_heading level0 row16\" >ada</th>\n",
       "      <td id=\"T_8f145_row16_col0\" class=\"data row16 col0\" >AdaBoost Regressor</td>\n",
       "      <td id=\"T_8f145_row16_col1\" class=\"data row16 col1\" >0.5493</td>\n",
       "      <td id=\"T_8f145_row16_col2\" class=\"data row16 col2\" >0.5460</td>\n",
       "      <td id=\"T_8f145_row16_col3\" class=\"data row16 col3\" >0.7379</td>\n",
       "      <td id=\"T_8f145_row16_col4\" class=\"data row16 col4\" >0.5496</td>\n",
       "      <td id=\"T_8f145_row16_col5\" class=\"data row16 col5\" >0.3580</td>\n",
       "      <td id=\"T_8f145_row16_col6\" class=\"data row16 col6\" >6760480369.9213</td>\n",
       "      <td id=\"T_8f145_row16_col7\" class=\"data row16 col7\" >0.4020</td>\n",
       "    </tr>\n",
       "    <tr>\n",
       "      <th id=\"T_8f145_level0_row17\" class=\"row_heading level0 row17\" >dummy</th>\n",
       "      <td id=\"T_8f145_row17_col0\" class=\"data row17 col0\" >Dummy Regressor</td>\n",
       "      <td id=\"T_8f145_row17_col1\" class=\"data row17 col1\" >0.7832</td>\n",
       "      <td id=\"T_8f145_row17_col2\" class=\"data row17 col2\" >1.2154</td>\n",
       "      <td id=\"T_8f145_row17_col3\" class=\"data row17 col3\" >1.1024</td>\n",
       "      <td id=\"T_8f145_row17_col4\" class=\"data row17 col4\" >-0.0009</td>\n",
       "      <td id=\"T_8f145_row17_col5\" class=\"data row17 col5\" >0.4418</td>\n",
       "      <td id=\"T_8f145_row17_col6\" class=\"data row17 col6\" >26287469414.4655</td>\n",
       "      <td id=\"T_8f145_row17_col7\" class=\"data row17 col7\" >0.4500</td>\n",
       "    </tr>\n",
       "    <tr>\n",
       "      <th id=\"T_8f145_level0_row18\" class=\"row_heading level0 row18\" >par</th>\n",
       "      <td id=\"T_8f145_row18_col0\" class=\"data row18 col0\" >Passive Aggressive Regressor</td>\n",
       "      <td id=\"T_8f145_row18_col1\" class=\"data row18 col1\" >1.1379</td>\n",
       "      <td id=\"T_8f145_row18_col2\" class=\"data row18 col2\" >2.4531</td>\n",
       "      <td id=\"T_8f145_row18_col3\" class=\"data row18 col3\" >1.4372</td>\n",
       "      <td id=\"T_8f145_row18_col4\" class=\"data row18 col4\" >-1.0275</td>\n",
       "      <td id=\"T_8f145_row18_col5\" class=\"data row18 col5\" >0.5643</td>\n",
       "      <td id=\"T_8f145_row18_col6\" class=\"data row18 col6\" >49476144127.2768</td>\n",
       "      <td id=\"T_8f145_row18_col7\" class=\"data row18 col7\" >0.2740</td>\n",
       "    </tr>\n",
       "    <tr>\n",
       "      <th id=\"T_8f145_level0_row19\" class=\"row_heading level0 row19\" >lar</th>\n",
       "      <td id=\"T_8f145_row19_col0\" class=\"data row19 col0\" >Least Angle Regression</td>\n",
       "      <td id=\"T_8f145_row19_col1\" class=\"data row19 col1\" >3242013450764.4502</td>\n",
       "      <td id=\"T_8f145_row19_col2\" class=\"data row19 col2\" >220230199483638522570604544.0000</td>\n",
       "      <td id=\"T_8f145_row19_col3\" class=\"data row19 col3\" >6670147685568.8623</td>\n",
       "      <td id=\"T_8f145_row19_col4\" class=\"data row19 col4\" >-176366632092531496046297088.0000</td>\n",
       "      <td id=\"T_8f145_row19_col5\" class=\"data row19 col5\" >19.5588</td>\n",
       "      <td id=\"T_8f145_row19_col6\" class=\"data row19 col6\" >2255974163450125056.0000</td>\n",
       "      <td id=\"T_8f145_row19_col7\" class=\"data row19 col7\" >0.2340</td>\n",
       "    </tr>\n",
       "  </tbody>\n",
       "</table>\n"
      ],
      "text/plain": [
       "<pandas.io.formats.style.Styler at 0x1b718fbe890>"
      ]
     },
     "metadata": {},
     "output_type": "display_data"
    },
    {
     "data": {
      "text/html": [],
      "text/plain": [
       "<IPython.core.display.HTML object>"
      ]
     },
     "metadata": {},
     "output_type": "display_data"
    },
    {
     "data": {
      "text/html": [],
      "text/plain": [
       "<IPython.core.display.HTML object>"
      ]
     },
     "metadata": {},
     "output_type": "display_data"
    },
    {
     "data": {
      "text/html": [
       "<style type=\"text/css\">\n",
       "#T_89b68_row5_col0, #T_89b68_row5_col1, #T_89b68_row5_col2, #T_89b68_row5_col3, #T_89b68_row5_col4, #T_89b68_row5_col5 {\n",
       "  background: yellow;\n",
       "}\n",
       "</style>\n",
       "<table id=\"T_89b68\">\n",
       "  <thead>\n",
       "    <tr>\n",
       "      <th class=\"blank level0\" >&nbsp;</th>\n",
       "      <th id=\"T_89b68_level0_col0\" class=\"col_heading level0 col0\" >MAE</th>\n",
       "      <th id=\"T_89b68_level0_col1\" class=\"col_heading level0 col1\" >MSE</th>\n",
       "      <th id=\"T_89b68_level0_col2\" class=\"col_heading level0 col2\" >RMSE</th>\n",
       "      <th id=\"T_89b68_level0_col3\" class=\"col_heading level0 col3\" >R2</th>\n",
       "      <th id=\"T_89b68_level0_col4\" class=\"col_heading level0 col4\" >RMSLE</th>\n",
       "      <th id=\"T_89b68_level0_col5\" class=\"col_heading level0 col5\" >MAPE</th>\n",
       "    </tr>\n",
       "    <tr>\n",
       "      <th class=\"index_name level0\" >Fold</th>\n",
       "      <th class=\"blank col0\" >&nbsp;</th>\n",
       "      <th class=\"blank col1\" >&nbsp;</th>\n",
       "      <th class=\"blank col2\" >&nbsp;</th>\n",
       "      <th class=\"blank col3\" >&nbsp;</th>\n",
       "      <th class=\"blank col4\" >&nbsp;</th>\n",
       "      <th class=\"blank col5\" >&nbsp;</th>\n",
       "    </tr>\n",
       "  </thead>\n",
       "  <tbody>\n",
       "    <tr>\n",
       "      <th id=\"T_89b68_level0_row0\" class=\"row_heading level0 row0\" >0</th>\n",
       "      <td id=\"T_89b68_row0_col0\" class=\"data row0 col0\" >0.1947</td>\n",
       "      <td id=\"T_89b68_row0_col1\" class=\"data row0 col1\" >0.1724</td>\n",
       "      <td id=\"T_89b68_row0_col2\" class=\"data row0 col2\" >0.4152</td>\n",
       "      <td id=\"T_89b68_row0_col3\" class=\"data row0 col3\" >0.8618</td>\n",
       "      <td id=\"T_89b68_row0_col4\" class=\"data row0 col4\" >0.1778</td>\n",
       "      <td id=\"T_89b68_row0_col5\" class=\"data row0 col5\" >3.0788</td>\n",
       "    </tr>\n",
       "    <tr>\n",
       "      <th id=\"T_89b68_level0_row1\" class=\"row_heading level0 row1\" >1</th>\n",
       "      <td id=\"T_89b68_row1_col0\" class=\"data row1 col0\" >0.2103</td>\n",
       "      <td id=\"T_89b68_row1_col1\" class=\"data row1 col1\" >0.2839</td>\n",
       "      <td id=\"T_89b68_row1_col2\" class=\"data row1 col2\" >0.5328</td>\n",
       "      <td id=\"T_89b68_row1_col3\" class=\"data row1 col3\" >0.7727</td>\n",
       "      <td id=\"T_89b68_row1_col4\" class=\"data row1 col4\" >0.1997</td>\n",
       "      <td id=\"T_89b68_row1_col5\" class=\"data row1 col5\" >47.0784</td>\n",
       "    </tr>\n",
       "    <tr>\n",
       "      <th id=\"T_89b68_level0_row2\" class=\"row_heading level0 row2\" >2</th>\n",
       "      <td id=\"T_89b68_row2_col0\" class=\"data row2 col0\" >0.2003</td>\n",
       "      <td id=\"T_89b68_row2_col1\" class=\"data row2 col1\" >0.1860</td>\n",
       "      <td id=\"T_89b68_row2_col2\" class=\"data row2 col2\" >0.4312</td>\n",
       "      <td id=\"T_89b68_row2_col3\" class=\"data row2 col3\" >0.8451</td>\n",
       "      <td id=\"T_89b68_row2_col4\" class=\"data row2 col4\" >0.1920</td>\n",
       "      <td id=\"T_89b68_row2_col5\" class=\"data row2 col5\" >4.4278</td>\n",
       "    </tr>\n",
       "    <tr>\n",
       "      <th id=\"T_89b68_level0_row3\" class=\"row_heading level0 row3\" >3</th>\n",
       "      <td id=\"T_89b68_row3_col0\" class=\"data row3 col0\" >0.2200</td>\n",
       "      <td id=\"T_89b68_row3_col1\" class=\"data row3 col1\" >0.2649</td>\n",
       "      <td id=\"T_89b68_row3_col2\" class=\"data row3 col2\" >0.5147</td>\n",
       "      <td id=\"T_89b68_row3_col3\" class=\"data row3 col3\" >0.7785</td>\n",
       "      <td id=\"T_89b68_row3_col4\" class=\"data row3 col4\" >0.2226</td>\n",
       "      <td id=\"T_89b68_row3_col5\" class=\"data row3 col5\" >10.8143</td>\n",
       "    </tr>\n",
       "    <tr>\n",
       "      <th id=\"T_89b68_level0_row4\" class=\"row_heading level0 row4\" >4</th>\n",
       "      <td id=\"T_89b68_row4_col0\" class=\"data row4 col0\" >0.2094</td>\n",
       "      <td id=\"T_89b68_row4_col1\" class=\"data row4 col1\" >0.2475</td>\n",
       "      <td id=\"T_89b68_row4_col2\" class=\"data row4 col2\" >0.4975</td>\n",
       "      <td id=\"T_89b68_row4_col3\" class=\"data row4 col3\" >0.7901</td>\n",
       "      <td id=\"T_89b68_row4_col4\" class=\"data row4 col4\" >0.1809</td>\n",
       "      <td id=\"T_89b68_row4_col5\" class=\"data row4 col5\" >11773471358.9493</td>\n",
       "    </tr>\n",
       "    <tr>\n",
       "      <th id=\"T_89b68_level0_row5\" class=\"row_heading level0 row5\" >Mean</th>\n",
       "      <td id=\"T_89b68_row5_col0\" class=\"data row5 col0\" >0.2069</td>\n",
       "      <td id=\"T_89b68_row5_col1\" class=\"data row5 col1\" >0.2309</td>\n",
       "      <td id=\"T_89b68_row5_col2\" class=\"data row5 col2\" >0.4783</td>\n",
       "      <td id=\"T_89b68_row5_col3\" class=\"data row5 col3\" >0.8096</td>\n",
       "      <td id=\"T_89b68_row5_col4\" class=\"data row5 col4\" >0.1946</td>\n",
       "      <td id=\"T_89b68_row5_col5\" class=\"data row5 col5\" >2354694284.8697</td>\n",
       "    </tr>\n",
       "    <tr>\n",
       "      <th id=\"T_89b68_level0_row6\" class=\"row_heading level0 row6\" >Std</th>\n",
       "      <td id=\"T_89b68_row6_col0\" class=\"data row6 col0\" >0.0087</td>\n",
       "      <td id=\"T_89b68_row6_col1\" class=\"data row6 col1\" >0.0440</td>\n",
       "      <td id=\"T_89b68_row6_col2\" class=\"data row6 col2\" >0.0466</td>\n",
       "      <td id=\"T_89b68_row6_col3\" class=\"data row6 col3\" >0.0366</td>\n",
       "      <td id=\"T_89b68_row6_col4\" class=\"data row6 col4\" >0.0160</td>\n",
       "      <td id=\"T_89b68_row6_col5\" class=\"data row6 col5\" >4709388537.0398</td>\n",
       "    </tr>\n",
       "  </tbody>\n",
       "</table>\n"
      ],
      "text/plain": [
       "<pandas.io.formats.style.Styler at 0x1b7025fa170>"
      ]
     },
     "metadata": {},
     "output_type": "display_data"
    },
    {
     "data": {
      "text/html": [],
      "text/plain": [
       "<IPython.core.display.HTML object>"
      ]
     },
     "metadata": {},
     "output_type": "display_data"
    },
    {
     "name": "stdout",
     "output_type": "stream",
     "text": [
      "Fitting 5 folds for each of 1 candidates, totalling 5 fits\n",
      "Fitting 5 folds for each of 1 candidates, totalling 5 fits\n",
      "Fitting 5 folds for each of 1 candidates, totalling 5 fits\n",
      "Fitting 5 folds for each of 1 candidates, totalling 5 fits\n",
      "Fitting 5 folds for each of 1 candidates, totalling 5 fits\n",
      "Fitting 5 folds for each of 1 candidates, totalling 5 fits\n",
      "Fitting 5 folds for each of 1 candidates, totalling 5 fits\n",
      "Fitting 5 folds for each of 1 candidates, totalling 5 fits\n",
      "Fitting 5 folds for each of 1 candidates, totalling 5 fits\n",
      "Fitting 5 folds for each of 1 candidates, totalling 5 fits\n",
      "Original model was better than the tuned model, hence it will be returned. NOTE: The display metrics are for the tuned model (not the original one).\n",
      "Transformation Pipeline and Model Successfully Saved\n",
      "Transformation Pipeline and Model Successfully Loaded\n"
     ]
    },
    {
     "data": {
      "text/html": [],
      "text/plain": [
       "<IPython.core.display.HTML object>"
      ]
     },
     "metadata": {},
     "output_type": "display_data"
    },
    {
     "name": "stdout",
     "output_type": "stream",
     "text": [
      "Prediction_mae list size: (840,)\n",
      "target_test_mae list size: (840,)\n"
     ]
    }
   ],
   "source": [
    "from pycaret.regression import *\n",
    "# Setup\n",
    "regression_setup_mae = setup(\n",
    "    data=model_data_clean,\n",
    "    target='target',\n",
    "    session_id=123,\n",
    "    fold=5,\n",
    "    train_size=0.8,\n",
    "    n_jobs=-1,\n",
    "    verbose=False,\n",
    "    remove_multicollinearity=True,\n",
    "    multicollinearity_threshold=0.9,\n",
    "    #remove_outliers=True,\n",
    "    #outliers_threshold=0.05\n",
    ")\n",
    "\n",
    "# Compare, tune, finalize models\n",
    "best_model_mae = compare_models(sort='MAE', n_select=3)\n",
    "tuned_model_mae = tune_model(best_model_mae[0], optimize='MAE', search_library='scikit-optimize')\n",
    "final_model_mae= finalize_model(tuned_model_mae)\n",
    "\n",
    "# Save : final_model used the metric R2.\n",
    "save_model(final_model_mae, 'formation_energy_final_model_mae')\n",
    "\n",
    "# Load the saved model\n",
    "model_mae = load_model('formation_energy_final_model_mae')\n",
    "\n",
    "# Retrieve holdout set\n",
    "X_test_mae = get_config('X_test')\n",
    "y_test_mae = get_config('y_test')\n",
    "X_train_mae = get_config('X_train')\n",
    "y_train_mae = get_config('y_train')\n",
    "\n",
    "# Get predictions using the final model\n",
    "predictions_df_mae = predict_model(model_mae, data=X_test_mae)\n",
    "\n",
    "# The predictions are in the 'Label' column\n",
    "y_pred_mae = predictions_df_mae['prediction_label']\n",
    "y_pred_mae.head()\n",
    "print(\"Prediction_mae list size:\",  y_pred_mae.shape)\n",
    "print(\"target_test_mae list size:\",  y_test_mae.shape)"
   ]
  },
  {
   "cell_type": "markdown",
   "id": "be81b091",
   "metadata": {},
   "source": [
    "2. Model selection: Metric R2"
   ]
  },
  {
   "cell_type": "code",
   "execution_count": 117,
   "id": "ac52ace4",
   "metadata": {},
   "outputs": [
    {
     "data": {
      "text/html": [],
      "text/plain": [
       "<IPython.core.display.HTML object>"
      ]
     },
     "metadata": {},
     "output_type": "display_data"
    },
    {
     "data": {
      "text/html": [
       "<style type=\"text/css\">\n",
       "#T_afb01 th {\n",
       "  text-align: left;\n",
       "}\n",
       "#T_afb01_row0_col0, #T_afb01_row0_col1, #T_afb01_row0_col5, #T_afb01_row0_col6, #T_afb01_row1_col0, #T_afb01_row1_col1, #T_afb01_row1_col2, #T_afb01_row1_col3, #T_afb01_row1_col4, #T_afb01_row1_col6, #T_afb01_row2_col0, #T_afb01_row2_col1, #T_afb01_row2_col2, #T_afb01_row2_col3, #T_afb01_row2_col4, #T_afb01_row2_col5, #T_afb01_row2_col6, #T_afb01_row3_col0, #T_afb01_row3_col1, #T_afb01_row3_col2, #T_afb01_row3_col3, #T_afb01_row3_col4, #T_afb01_row3_col5, #T_afb01_row3_col6, #T_afb01_row4_col0, #T_afb01_row4_col1, #T_afb01_row4_col2, #T_afb01_row4_col3, #T_afb01_row4_col4, #T_afb01_row4_col5, #T_afb01_row4_col6, #T_afb01_row5_col0, #T_afb01_row5_col2, #T_afb01_row5_col3, #T_afb01_row5_col4, #T_afb01_row5_col5, #T_afb01_row6_col0, #T_afb01_row6_col1, #T_afb01_row6_col2, #T_afb01_row6_col3, #T_afb01_row6_col4, #T_afb01_row6_col5, #T_afb01_row6_col6, #T_afb01_row7_col0, #T_afb01_row7_col1, #T_afb01_row7_col2, #T_afb01_row7_col3, #T_afb01_row7_col4, #T_afb01_row7_col5, #T_afb01_row7_col6, #T_afb01_row8_col0, #T_afb01_row8_col1, #T_afb01_row8_col2, #T_afb01_row8_col3, #T_afb01_row8_col4, #T_afb01_row8_col5, #T_afb01_row8_col6, #T_afb01_row9_col0, #T_afb01_row9_col1, #T_afb01_row9_col2, #T_afb01_row9_col3, #T_afb01_row9_col4, #T_afb01_row9_col5, #T_afb01_row9_col6, #T_afb01_row10_col0, #T_afb01_row10_col1, #T_afb01_row10_col2, #T_afb01_row10_col3, #T_afb01_row10_col4, #T_afb01_row10_col5, #T_afb01_row10_col6, #T_afb01_row11_col0, #T_afb01_row11_col1, #T_afb01_row11_col2, #T_afb01_row11_col3, #T_afb01_row11_col4, #T_afb01_row11_col5, #T_afb01_row11_col6, #T_afb01_row12_col0, #T_afb01_row12_col1, #T_afb01_row12_col2, #T_afb01_row12_col3, #T_afb01_row12_col4, #T_afb01_row12_col5, #T_afb01_row12_col6, #T_afb01_row13_col0, #T_afb01_row13_col1, #T_afb01_row13_col2, #T_afb01_row13_col3, #T_afb01_row13_col4, #T_afb01_row13_col5, #T_afb01_row13_col6, #T_afb01_row14_col0, #T_afb01_row14_col1, #T_afb01_row14_col2, #T_afb01_row14_col3, #T_afb01_row14_col4, #T_afb01_row14_col5, #T_afb01_row14_col6, #T_afb01_row15_col0, #T_afb01_row15_col1, #T_afb01_row15_col2, #T_afb01_row15_col3, #T_afb01_row15_col4, #T_afb01_row15_col5, #T_afb01_row15_col6, #T_afb01_row16_col0, #T_afb01_row16_col1, #T_afb01_row16_col2, #T_afb01_row16_col3, #T_afb01_row16_col4, #T_afb01_row16_col5, #T_afb01_row16_col6, #T_afb01_row17_col0, #T_afb01_row17_col1, #T_afb01_row17_col2, #T_afb01_row17_col3, #T_afb01_row17_col4, #T_afb01_row17_col5, #T_afb01_row17_col6, #T_afb01_row18_col0, #T_afb01_row18_col1, #T_afb01_row18_col2, #T_afb01_row18_col3, #T_afb01_row18_col4, #T_afb01_row18_col5, #T_afb01_row18_col6, #T_afb01_row19_col0, #T_afb01_row19_col1, #T_afb01_row19_col2, #T_afb01_row19_col3, #T_afb01_row19_col4, #T_afb01_row19_col5, #T_afb01_row19_col6 {\n",
       "  text-align: left;\n",
       "}\n",
       "#T_afb01_row0_col2, #T_afb01_row0_col3, #T_afb01_row0_col4, #T_afb01_row1_col5, #T_afb01_row5_col1, #T_afb01_row5_col6 {\n",
       "  text-align: left;\n",
       "  background-color: yellow;\n",
       "}\n",
       "#T_afb01_row0_col7, #T_afb01_row1_col7, #T_afb01_row2_col7, #T_afb01_row3_col7, #T_afb01_row4_col7, #T_afb01_row5_col7, #T_afb01_row6_col7, #T_afb01_row7_col7, #T_afb01_row8_col7, #T_afb01_row9_col7, #T_afb01_row10_col7, #T_afb01_row11_col7, #T_afb01_row12_col7, #T_afb01_row13_col7, #T_afb01_row15_col7, #T_afb01_row16_col7, #T_afb01_row18_col7, #T_afb01_row19_col7 {\n",
       "  text-align: left;\n",
       "  background-color: lightgrey;\n",
       "}\n",
       "#T_afb01_row14_col7, #T_afb01_row17_col7 {\n",
       "  text-align: left;\n",
       "  background-color: yellow;\n",
       "  background-color: lightgrey;\n",
       "}\n",
       "</style>\n",
       "<table id=\"T_afb01\">\n",
       "  <thead>\n",
       "    <tr>\n",
       "      <th class=\"blank level0\" >&nbsp;</th>\n",
       "      <th id=\"T_afb01_level0_col0\" class=\"col_heading level0 col0\" >Model</th>\n",
       "      <th id=\"T_afb01_level0_col1\" class=\"col_heading level0 col1\" >MAE</th>\n",
       "      <th id=\"T_afb01_level0_col2\" class=\"col_heading level0 col2\" >MSE</th>\n",
       "      <th id=\"T_afb01_level0_col3\" class=\"col_heading level0 col3\" >RMSE</th>\n",
       "      <th id=\"T_afb01_level0_col4\" class=\"col_heading level0 col4\" >R2</th>\n",
       "      <th id=\"T_afb01_level0_col5\" class=\"col_heading level0 col5\" >RMSLE</th>\n",
       "      <th id=\"T_afb01_level0_col6\" class=\"col_heading level0 col6\" >MAPE</th>\n",
       "      <th id=\"T_afb01_level0_col7\" class=\"col_heading level0 col7\" >TT (Sec)</th>\n",
       "    </tr>\n",
       "  </thead>\n",
       "  <tbody>\n",
       "    <tr>\n",
       "      <th id=\"T_afb01_level0_row0\" class=\"row_heading level0 row0\" >lightgbm</th>\n",
       "      <td id=\"T_afb01_row0_col0\" class=\"data row0 col0\" >Light Gradient Boosting Machine</td>\n",
       "      <td id=\"T_afb01_row0_col1\" class=\"data row0 col1\" >0.2011</td>\n",
       "      <td id=\"T_afb01_row0_col2\" class=\"data row0 col2\" >0.1801</td>\n",
       "      <td id=\"T_afb01_row0_col3\" class=\"data row0 col3\" >0.4234</td>\n",
       "      <td id=\"T_afb01_row0_col4\" class=\"data row0 col4\" >0.8514</td>\n",
       "      <td id=\"T_afb01_row0_col5\" class=\"data row0 col5\" >0.1729</td>\n",
       "      <td id=\"T_afb01_row0_col6\" class=\"data row0 col6\" >10796619017.5757</td>\n",
       "      <td id=\"T_afb01_row0_col7\" class=\"data row0 col7\" >0.3300</td>\n",
       "    </tr>\n",
       "    <tr>\n",
       "      <th id=\"T_afb01_level0_row1\" class=\"row_heading level0 row1\" >catboost</th>\n",
       "      <td id=\"T_afb01_row1_col0\" class=\"data row1 col0\" >CatBoost Regressor</td>\n",
       "      <td id=\"T_afb01_row1_col1\" class=\"data row1 col1\" >0.1871</td>\n",
       "      <td id=\"T_afb01_row1_col2\" class=\"data row1 col2\" >0.1890</td>\n",
       "      <td id=\"T_afb01_row1_col3\" class=\"data row1 col3\" >0.4310</td>\n",
       "      <td id=\"T_afb01_row1_col4\" class=\"data row1 col4\" >0.8435</td>\n",
       "      <td id=\"T_afb01_row1_col5\" class=\"data row1 col5\" >0.1711</td>\n",
       "      <td id=\"T_afb01_row1_col6\" class=\"data row1 col6\" >4739995814.4321</td>\n",
       "      <td id=\"T_afb01_row1_col7\" class=\"data row1 col7\" >4.5960</td>\n",
       "    </tr>\n",
       "    <tr>\n",
       "      <th id=\"T_afb01_level0_row2\" class=\"row_heading level0 row2\" >rf</th>\n",
       "      <td id=\"T_afb01_row2_col0\" class=\"data row2 col0\" >Random Forest Regressor</td>\n",
       "      <td id=\"T_afb01_row2_col1\" class=\"data row2 col1\" >0.1970</td>\n",
       "      <td id=\"T_afb01_row2_col2\" class=\"data row2 col2\" >0.2064</td>\n",
       "      <td id=\"T_afb01_row2_col3\" class=\"data row2 col3\" >0.4516</td>\n",
       "      <td id=\"T_afb01_row2_col4\" class=\"data row2 col4\" >0.8294</td>\n",
       "      <td id=\"T_afb01_row2_col5\" class=\"data row2 col5\" >0.1787</td>\n",
       "      <td id=\"T_afb01_row2_col6\" class=\"data row2 col6\" >1107221074.8849</td>\n",
       "      <td id=\"T_afb01_row2_col7\" class=\"data row2 col7\" >1.8520</td>\n",
       "    </tr>\n",
       "    <tr>\n",
       "      <th id=\"T_afb01_level0_row3\" class=\"row_heading level0 row3\" >xgboost</th>\n",
       "      <td id=\"T_afb01_row3_col0\" class=\"data row3 col0\" >Extreme Gradient Boosting</td>\n",
       "      <td id=\"T_afb01_row3_col1\" class=\"data row3 col1\" >0.1927</td>\n",
       "      <td id=\"T_afb01_row3_col2\" class=\"data row3 col2\" >0.2125</td>\n",
       "      <td id=\"T_afb01_row3_col3\" class=\"data row3 col3\" >0.4562</td>\n",
       "      <td id=\"T_afb01_row3_col4\" class=\"data row3 col4\" >0.8240</td>\n",
       "      <td id=\"T_afb01_row3_col5\" class=\"data row3 col5\" >0.1772</td>\n",
       "      <td id=\"T_afb01_row3_col6\" class=\"data row3 col6\" >3752231339.4052</td>\n",
       "      <td id=\"T_afb01_row3_col7\" class=\"data row3 col7\" >0.4960</td>\n",
       "    </tr>\n",
       "    <tr>\n",
       "      <th id=\"T_afb01_level0_row4\" class=\"row_heading level0 row4\" >gbr</th>\n",
       "      <td id=\"T_afb01_row4_col0\" class=\"data row4 col0\" >Gradient Boosting Regressor</td>\n",
       "      <td id=\"T_afb01_row4_col1\" class=\"data row4 col1\" >0.2420</td>\n",
       "      <td id=\"T_afb01_row4_col2\" class=\"data row4 col2\" >0.2160</td>\n",
       "      <td id=\"T_afb01_row4_col3\" class=\"data row4 col3\" >0.4633</td>\n",
       "      <td id=\"T_afb01_row4_col4\" class=\"data row4 col4\" >0.8219</td>\n",
       "      <td id=\"T_afb01_row4_col5\" class=\"data row4 col5\" >0.1966</td>\n",
       "      <td id=\"T_afb01_row4_col6\" class=\"data row4 col6\" >12665403839.8581</td>\n",
       "      <td id=\"T_afb01_row4_col7\" class=\"data row4 col7\" >0.6780</td>\n",
       "    </tr>\n",
       "    <tr>\n",
       "      <th id=\"T_afb01_level0_row5\" class=\"row_heading level0 row5\" >et</th>\n",
       "      <td id=\"T_afb01_row5_col0\" class=\"data row5 col0\" >Extra Trees Regressor</td>\n",
       "      <td id=\"T_afb01_row5_col1\" class=\"data row5 col1\" >0.1837</td>\n",
       "      <td id=\"T_afb01_row5_col2\" class=\"data row5 col2\" >0.2305</td>\n",
       "      <td id=\"T_afb01_row5_col3\" class=\"data row5 col3\" >0.4761</td>\n",
       "      <td id=\"T_afb01_row5_col4\" class=\"data row5 col4\" >0.8097</td>\n",
       "      <td id=\"T_afb01_row5_col5\" class=\"data row5 col5\" >0.1809</td>\n",
       "      <td id=\"T_afb01_row5_col6\" class=\"data row5 col6\" >972184247.7405</td>\n",
       "      <td id=\"T_afb01_row5_col7\" class=\"data row5 col7\" >1.1860</td>\n",
       "    </tr>\n",
       "    <tr>\n",
       "      <th id=\"T_afb01_level0_row6\" class=\"row_heading level0 row6\" >lr</th>\n",
       "      <td id=\"T_afb01_row6_col0\" class=\"data row6 col0\" >Linear Regression</td>\n",
       "      <td id=\"T_afb01_row6_col1\" class=\"data row6 col1\" >0.3789</td>\n",
       "      <td id=\"T_afb01_row6_col2\" class=\"data row6 col2\" >0.3533</td>\n",
       "      <td id=\"T_afb01_row6_col3\" class=\"data row6 col3\" >0.5931</td>\n",
       "      <td id=\"T_afb01_row6_col4\" class=\"data row6 col4\" >0.7090</td>\n",
       "      <td id=\"T_afb01_row6_col5\" class=\"data row6 col5\" >0.2545</td>\n",
       "      <td id=\"T_afb01_row6_col6\" class=\"data row6 col6\" >18865289651.8593</td>\n",
       "      <td id=\"T_afb01_row6_col7\" class=\"data row6 col7\" >0.2540</td>\n",
       "    </tr>\n",
       "    <tr>\n",
       "      <th id=\"T_afb01_level0_row7\" class=\"row_heading level0 row7\" >ridge</th>\n",
       "      <td id=\"T_afb01_row7_col0\" class=\"data row7 col0\" >Ridge Regression</td>\n",
       "      <td id=\"T_afb01_row7_col1\" class=\"data row7 col1\" >0.3775</td>\n",
       "      <td id=\"T_afb01_row7_col2\" class=\"data row7 col2\" >0.3535</td>\n",
       "      <td id=\"T_afb01_row7_col3\" class=\"data row7 col3\" >0.5932</td>\n",
       "      <td id=\"T_afb01_row7_col4\" class=\"data row7 col4\" >0.7089</td>\n",
       "      <td id=\"T_afb01_row7_col5\" class=\"data row7 col5\" >0.2549</td>\n",
       "      <td id=\"T_afb01_row7_col6\" class=\"data row7 col6\" >19555860508.5534</td>\n",
       "      <td id=\"T_afb01_row7_col7\" class=\"data row7 col7\" >0.1560</td>\n",
       "    </tr>\n",
       "    <tr>\n",
       "      <th id=\"T_afb01_level0_row8\" class=\"row_heading level0 row8\" >br</th>\n",
       "      <td id=\"T_afb01_row8_col0\" class=\"data row8 col0\" >Bayesian Ridge</td>\n",
       "      <td id=\"T_afb01_row8_col1\" class=\"data row8 col1\" >0.3779</td>\n",
       "      <td id=\"T_afb01_row8_col2\" class=\"data row8 col2\" >0.3598</td>\n",
       "      <td id=\"T_afb01_row8_col3\" class=\"data row8 col3\" >0.5984</td>\n",
       "      <td id=\"T_afb01_row8_col4\" class=\"data row8 col4\" >0.7037</td>\n",
       "      <td id=\"T_afb01_row8_col5\" class=\"data row8 col5\" >0.2544</td>\n",
       "      <td id=\"T_afb01_row8_col6\" class=\"data row8 col6\" >24901119209.4470</td>\n",
       "      <td id=\"T_afb01_row8_col7\" class=\"data row8 col7\" >0.1500</td>\n",
       "    </tr>\n",
       "    <tr>\n",
       "      <th id=\"T_afb01_level0_row9\" class=\"row_heading level0 row9\" >knn</th>\n",
       "      <td id=\"T_afb01_row9_col0\" class=\"data row9 col0\" >K Neighbors Regressor</td>\n",
       "      <td id=\"T_afb01_row9_col1\" class=\"data row9 col1\" >0.3539</td>\n",
       "      <td id=\"T_afb01_row9_col2\" class=\"data row9 col2\" >0.3742</td>\n",
       "      <td id=\"T_afb01_row9_col3\" class=\"data row9 col3\" >0.6111</td>\n",
       "      <td id=\"T_afb01_row9_col4\" class=\"data row9 col4\" >0.6916</td>\n",
       "      <td id=\"T_afb01_row9_col5\" class=\"data row9 col5\" >0.2649</td>\n",
       "      <td id=\"T_afb01_row9_col6\" class=\"data row9 col6\" >2565593528.6978</td>\n",
       "      <td id=\"T_afb01_row9_col7\" class=\"data row9 col7\" >0.3100</td>\n",
       "    </tr>\n",
       "    <tr>\n",
       "      <th id=\"T_afb01_level0_row10\" class=\"row_heading level0 row10\" >dt</th>\n",
       "      <td id=\"T_afb01_row10_col0\" class=\"data row10 col0\" >Decision Tree Regressor</td>\n",
       "      <td id=\"T_afb01_row10_col1\" class=\"data row10 col1\" >0.2512</td>\n",
       "      <td id=\"T_afb01_row10_col2\" class=\"data row10 col2\" >0.3930</td>\n",
       "      <td id=\"T_afb01_row10_col3\" class=\"data row10 col3\" >0.6192</td>\n",
       "      <td id=\"T_afb01_row10_col4\" class=\"data row10 col4\" >0.6747</td>\n",
       "      <td id=\"T_afb01_row10_col5\" class=\"data row10 col5\" >0.2197</td>\n",
       "      <td id=\"T_afb01_row10_col6\" class=\"data row10 col6\" >6614689174.1288</td>\n",
       "      <td id=\"T_afb01_row10_col7\" class=\"data row10 col7\" >0.2220</td>\n",
       "    </tr>\n",
       "    <tr>\n",
       "      <th id=\"T_afb01_level0_row11\" class=\"row_heading level0 row11\" >huber</th>\n",
       "      <td id=\"T_afb01_row11_col0\" class=\"data row11 col0\" >Huber Regressor</td>\n",
       "      <td id=\"T_afb01_row11_col1\" class=\"data row11 col1\" >0.4759</td>\n",
       "      <td id=\"T_afb01_row11_col2\" class=\"data row11 col2\" >0.5260</td>\n",
       "      <td id=\"T_afb01_row11_col3\" class=\"data row11 col3\" >0.7246</td>\n",
       "      <td id=\"T_afb01_row11_col4\" class=\"data row11 col4\" >0.5669</td>\n",
       "      <td id=\"T_afb01_row11_col5\" class=\"data row11 col5\" >0.2906</td>\n",
       "      <td id=\"T_afb01_row11_col6\" class=\"data row11 col6\" >14095640206.4797</td>\n",
       "      <td id=\"T_afb01_row11_col7\" class=\"data row11 col7\" >0.3440</td>\n",
       "    </tr>\n",
       "    <tr>\n",
       "      <th id=\"T_afb01_level0_row12\" class=\"row_heading level0 row12\" >en</th>\n",
       "      <td id=\"T_afb01_row12_col0\" class=\"data row12 col0\" >Elastic Net</td>\n",
       "      <td id=\"T_afb01_row12_col1\" class=\"data row12 col1\" >0.4795</td>\n",
       "      <td id=\"T_afb01_row12_col2\" class=\"data row12 col2\" >0.5302</td>\n",
       "      <td id=\"T_afb01_row12_col3\" class=\"data row12 col3\" >0.7274</td>\n",
       "      <td id=\"T_afb01_row12_col4\" class=\"data row12 col4\" >0.5635</td>\n",
       "      <td id=\"T_afb01_row12_col5\" class=\"data row12 col5\" >0.2960</td>\n",
       "      <td id=\"T_afb01_row12_col6\" class=\"data row12 col6\" >14771213135.7525</td>\n",
       "      <td id=\"T_afb01_row12_col7\" class=\"data row12 col7\" >0.2200</td>\n",
       "    </tr>\n",
       "    <tr>\n",
       "      <th id=\"T_afb01_level0_row13\" class=\"row_heading level0 row13\" >lasso</th>\n",
       "      <td id=\"T_afb01_row13_col0\" class=\"data row13 col0\" >Lasso Regression</td>\n",
       "      <td id=\"T_afb01_row13_col1\" class=\"data row13 col1\" >0.4881</td>\n",
       "      <td id=\"T_afb01_row13_col2\" class=\"data row13 col2\" >0.5458</td>\n",
       "      <td id=\"T_afb01_row13_col3\" class=\"data row13 col3\" >0.7381</td>\n",
       "      <td id=\"T_afb01_row13_col4\" class=\"data row13 col4\" >0.5507</td>\n",
       "      <td id=\"T_afb01_row13_col5\" class=\"data row13 col5\" >0.3008</td>\n",
       "      <td id=\"T_afb01_row13_col6\" class=\"data row13 col6\" >18037479866.9007</td>\n",
       "      <td id=\"T_afb01_row13_col7\" class=\"data row13 col7\" >0.2300</td>\n",
       "    </tr>\n",
       "    <tr>\n",
       "      <th id=\"T_afb01_level0_row14\" class=\"row_heading level0 row14\" >llar</th>\n",
       "      <td id=\"T_afb01_row14_col0\" class=\"data row14 col0\" >Lasso Least Angle Regression</td>\n",
       "      <td id=\"T_afb01_row14_col1\" class=\"data row14 col1\" >0.4881</td>\n",
       "      <td id=\"T_afb01_row14_col2\" class=\"data row14 col2\" >0.5458</td>\n",
       "      <td id=\"T_afb01_row14_col3\" class=\"data row14 col3\" >0.7381</td>\n",
       "      <td id=\"T_afb01_row14_col4\" class=\"data row14 col4\" >0.5507</td>\n",
       "      <td id=\"T_afb01_row14_col5\" class=\"data row14 col5\" >0.3008</td>\n",
       "      <td id=\"T_afb01_row14_col6\" class=\"data row14 col6\" >18044084257.3041</td>\n",
       "      <td id=\"T_afb01_row14_col7\" class=\"data row14 col7\" >0.1480</td>\n",
       "    </tr>\n",
       "    <tr>\n",
       "      <th id=\"T_afb01_level0_row15\" class=\"row_heading level0 row15\" >ada</th>\n",
       "      <td id=\"T_afb01_row15_col0\" class=\"data row15 col0\" >AdaBoost Regressor</td>\n",
       "      <td id=\"T_afb01_row15_col1\" class=\"data row15 col1\" >0.5493</td>\n",
       "      <td id=\"T_afb01_row15_col2\" class=\"data row15 col2\" >0.5460</td>\n",
       "      <td id=\"T_afb01_row15_col3\" class=\"data row15 col3\" >0.7379</td>\n",
       "      <td id=\"T_afb01_row15_col4\" class=\"data row15 col4\" >0.5496</td>\n",
       "      <td id=\"T_afb01_row15_col5\" class=\"data row15 col5\" >0.3580</td>\n",
       "      <td id=\"T_afb01_row15_col6\" class=\"data row15 col6\" >6760480369.9213</td>\n",
       "      <td id=\"T_afb01_row15_col7\" class=\"data row15 col7\" >0.4740</td>\n",
       "    </tr>\n",
       "    <tr>\n",
       "      <th id=\"T_afb01_level0_row16\" class=\"row_heading level0 row16\" >omp</th>\n",
       "      <td id=\"T_afb01_row16_col0\" class=\"data row16 col0\" >Orthogonal Matching Pursuit</td>\n",
       "      <td id=\"T_afb01_row16_col1\" class=\"data row16 col1\" >0.4977</td>\n",
       "      <td id=\"T_afb01_row16_col2\" class=\"data row16 col2\" >0.5520</td>\n",
       "      <td id=\"T_afb01_row16_col3\" class=\"data row16 col3\" >0.7423</td>\n",
       "      <td id=\"T_afb01_row16_col4\" class=\"data row16 col4\" >0.5456</td>\n",
       "      <td id=\"T_afb01_row16_col5\" class=\"data row16 col5\" >0.3005</td>\n",
       "      <td id=\"T_afb01_row16_col6\" class=\"data row16 col6\" >20201970108.9349</td>\n",
       "      <td id=\"T_afb01_row16_col7\" class=\"data row16 col7\" >0.1640</td>\n",
       "    </tr>\n",
       "    <tr>\n",
       "      <th id=\"T_afb01_level0_row17\" class=\"row_heading level0 row17\" >dummy</th>\n",
       "      <td id=\"T_afb01_row17_col0\" class=\"data row17 col0\" >Dummy Regressor</td>\n",
       "      <td id=\"T_afb01_row17_col1\" class=\"data row17 col1\" >0.7832</td>\n",
       "      <td id=\"T_afb01_row17_col2\" class=\"data row17 col2\" >1.2154</td>\n",
       "      <td id=\"T_afb01_row17_col3\" class=\"data row17 col3\" >1.1024</td>\n",
       "      <td id=\"T_afb01_row17_col4\" class=\"data row17 col4\" >-0.0009</td>\n",
       "      <td id=\"T_afb01_row17_col5\" class=\"data row17 col5\" >0.4418</td>\n",
       "      <td id=\"T_afb01_row17_col6\" class=\"data row17 col6\" >26287469414.4655</td>\n",
       "      <td id=\"T_afb01_row17_col7\" class=\"data row17 col7\" >0.1480</td>\n",
       "    </tr>\n",
       "    <tr>\n",
       "      <th id=\"T_afb01_level0_row18\" class=\"row_heading level0 row18\" >par</th>\n",
       "      <td id=\"T_afb01_row18_col0\" class=\"data row18 col0\" >Passive Aggressive Regressor</td>\n",
       "      <td id=\"T_afb01_row18_col1\" class=\"data row18 col1\" >1.1379</td>\n",
       "      <td id=\"T_afb01_row18_col2\" class=\"data row18 col2\" >2.4531</td>\n",
       "      <td id=\"T_afb01_row18_col3\" class=\"data row18 col3\" >1.4372</td>\n",
       "      <td id=\"T_afb01_row18_col4\" class=\"data row18 col4\" >-1.0275</td>\n",
       "      <td id=\"T_afb01_row18_col5\" class=\"data row18 col5\" >0.5643</td>\n",
       "      <td id=\"T_afb01_row18_col6\" class=\"data row18 col6\" >49476144127.2768</td>\n",
       "      <td id=\"T_afb01_row18_col7\" class=\"data row18 col7\" >0.1540</td>\n",
       "    </tr>\n",
       "    <tr>\n",
       "      <th id=\"T_afb01_level0_row19\" class=\"row_heading level0 row19\" >lar</th>\n",
       "      <td id=\"T_afb01_row19_col0\" class=\"data row19 col0\" >Least Angle Regression</td>\n",
       "      <td id=\"T_afb01_row19_col1\" class=\"data row19 col1\" >3242013450764.4502</td>\n",
       "      <td id=\"T_afb01_row19_col2\" class=\"data row19 col2\" >220230199483638522570604544.0000</td>\n",
       "      <td id=\"T_afb01_row19_col3\" class=\"data row19 col3\" >6670147685568.8623</td>\n",
       "      <td id=\"T_afb01_row19_col4\" class=\"data row19 col4\" >-176366632092531496046297088.0000</td>\n",
       "      <td id=\"T_afb01_row19_col5\" class=\"data row19 col5\" >19.5588</td>\n",
       "      <td id=\"T_afb01_row19_col6\" class=\"data row19 col6\" >2255974163450125056.0000</td>\n",
       "      <td id=\"T_afb01_row19_col7\" class=\"data row19 col7\" >0.1680</td>\n",
       "    </tr>\n",
       "  </tbody>\n",
       "</table>\n"
      ],
      "text/plain": [
       "<pandas.io.formats.style.Styler at 0x1b6efc40730>"
      ]
     },
     "metadata": {},
     "output_type": "display_data"
    },
    {
     "data": {
      "text/html": [],
      "text/plain": [
       "<IPython.core.display.HTML object>"
      ]
     },
     "metadata": {},
     "output_type": "display_data"
    },
    {
     "data": {
      "text/html": [],
      "text/plain": [
       "<IPython.core.display.HTML object>"
      ]
     },
     "metadata": {},
     "output_type": "display_data"
    },
    {
     "data": {
      "text/html": [
       "<style type=\"text/css\">\n",
       "#T_134fe_row5_col0, #T_134fe_row5_col1, #T_134fe_row5_col2, #T_134fe_row5_col3, #T_134fe_row5_col4, #T_134fe_row5_col5 {\n",
       "  background: yellow;\n",
       "}\n",
       "</style>\n",
       "<table id=\"T_134fe\">\n",
       "  <thead>\n",
       "    <tr>\n",
       "      <th class=\"blank level0\" >&nbsp;</th>\n",
       "      <th id=\"T_134fe_level0_col0\" class=\"col_heading level0 col0\" >MAE</th>\n",
       "      <th id=\"T_134fe_level0_col1\" class=\"col_heading level0 col1\" >MSE</th>\n",
       "      <th id=\"T_134fe_level0_col2\" class=\"col_heading level0 col2\" >RMSE</th>\n",
       "      <th id=\"T_134fe_level0_col3\" class=\"col_heading level0 col3\" >R2</th>\n",
       "      <th id=\"T_134fe_level0_col4\" class=\"col_heading level0 col4\" >RMSLE</th>\n",
       "      <th id=\"T_134fe_level0_col5\" class=\"col_heading level0 col5\" >MAPE</th>\n",
       "    </tr>\n",
       "    <tr>\n",
       "      <th class=\"index_name level0\" >Fold</th>\n",
       "      <th class=\"blank col0\" >&nbsp;</th>\n",
       "      <th class=\"blank col1\" >&nbsp;</th>\n",
       "      <th class=\"blank col2\" >&nbsp;</th>\n",
       "      <th class=\"blank col3\" >&nbsp;</th>\n",
       "      <th class=\"blank col4\" >&nbsp;</th>\n",
       "      <th class=\"blank col5\" >&nbsp;</th>\n",
       "    </tr>\n",
       "  </thead>\n",
       "  <tbody>\n",
       "    <tr>\n",
       "      <th id=\"T_134fe_level0_row0\" class=\"row_heading level0 row0\" >0</th>\n",
       "      <td id=\"T_134fe_row0_col0\" class=\"data row0 col0\" >0.2576</td>\n",
       "      <td id=\"T_134fe_row0_col1\" class=\"data row0 col1\" >0.2076</td>\n",
       "      <td id=\"T_134fe_row0_col2\" class=\"data row0 col2\" >0.4557</td>\n",
       "      <td id=\"T_134fe_row0_col3\" class=\"data row0 col3\" >0.8335</td>\n",
       "      <td id=\"T_134fe_row0_col4\" class=\"data row0 col4\" >0.2134</td>\n",
       "      <td id=\"T_134fe_row0_col5\" class=\"data row0 col5\" >10.0495</td>\n",
       "    </tr>\n",
       "    <tr>\n",
       "      <th id=\"T_134fe_level0_row1\" class=\"row_heading level0 row1\" >1</th>\n",
       "      <td id=\"T_134fe_row1_col0\" class=\"data row1 col0\" >0.2647</td>\n",
       "      <td id=\"T_134fe_row1_col1\" class=\"data row1 col1\" >0.3187</td>\n",
       "      <td id=\"T_134fe_row1_col2\" class=\"data row1 col2\" >0.5645</td>\n",
       "      <td id=\"T_134fe_row1_col3\" class=\"data row1 col3\" >0.7448</td>\n",
       "      <td id=\"T_134fe_row1_col4\" class=\"data row1 col4\" >0.2160</td>\n",
       "      <td id=\"T_134fe_row1_col5\" class=\"data row1 col5\" >86.6240</td>\n",
       "    </tr>\n",
       "    <tr>\n",
       "      <th id=\"T_134fe_level0_row2\" class=\"row_heading level0 row2\" >2</th>\n",
       "      <td id=\"T_134fe_row2_col0\" class=\"data row2 col0\" >0.2788</td>\n",
       "      <td id=\"T_134fe_row2_col1\" class=\"data row2 col1\" >0.2611</td>\n",
       "      <td id=\"T_134fe_row2_col2\" class=\"data row2 col2\" >0.5109</td>\n",
       "      <td id=\"T_134fe_row2_col3\" class=\"data row2 col3\" >0.7825</td>\n",
       "      <td id=\"T_134fe_row2_col4\" class=\"data row2 col4\" >0.2234</td>\n",
       "      <td id=\"T_134fe_row2_col5\" class=\"data row2 col5\" >8.4107</td>\n",
       "    </tr>\n",
       "    <tr>\n",
       "      <th id=\"T_134fe_level0_row3\" class=\"row_heading level0 row3\" >3</th>\n",
       "      <td id=\"T_134fe_row3_col0\" class=\"data row3 col0\" >0.2774</td>\n",
       "      <td id=\"T_134fe_row3_col1\" class=\"data row3 col1\" >0.2966</td>\n",
       "      <td id=\"T_134fe_row3_col2\" class=\"data row3 col2\" >0.5446</td>\n",
       "      <td id=\"T_134fe_row3_col3\" class=\"data row3 col3\" >0.7520</td>\n",
       "      <td id=\"T_134fe_row3_col4\" class=\"data row3 col4\" >0.2321</td>\n",
       "      <td id=\"T_134fe_row3_col5\" class=\"data row3 col5\" >51.6562</td>\n",
       "    </tr>\n",
       "    <tr>\n",
       "      <th id=\"T_134fe_level0_row4\" class=\"row_heading level0 row4\" >4</th>\n",
       "      <td id=\"T_134fe_row4_col0\" class=\"data row4 col0\" >0.2713</td>\n",
       "      <td id=\"T_134fe_row4_col1\" class=\"data row4 col1\" >0.2322</td>\n",
       "      <td id=\"T_134fe_row4_col2\" class=\"data row4 col2\" >0.4818</td>\n",
       "      <td id=\"T_134fe_row4_col3\" class=\"data row4 col3\" >0.8032</td>\n",
       "      <td id=\"T_134fe_row4_col4\" class=\"data row4 col4\" >0.2137</td>\n",
       "      <td id=\"T_134fe_row4_col5\" class=\"data row4 col5\" >53348605308.4710</td>\n",
       "    </tr>\n",
       "    <tr>\n",
       "      <th id=\"T_134fe_level0_row5\" class=\"row_heading level0 row5\" >Mean</th>\n",
       "      <td id=\"T_134fe_row5_col0\" class=\"data row5 col0\" >0.2700</td>\n",
       "      <td id=\"T_134fe_row5_col1\" class=\"data row5 col1\" >0.2632</td>\n",
       "      <td id=\"T_134fe_row5_col2\" class=\"data row5 col2\" >0.5115</td>\n",
       "      <td id=\"T_134fe_row5_col3\" class=\"data row5 col3\" >0.7832</td>\n",
       "      <td id=\"T_134fe_row5_col4\" class=\"data row5 col4\" >0.2197</td>\n",
       "      <td id=\"T_134fe_row5_col5\" class=\"data row5 col5\" >10669721093.0423</td>\n",
       "    </tr>\n",
       "    <tr>\n",
       "      <th id=\"T_134fe_level0_row6\" class=\"row_heading level0 row6\" >Std</th>\n",
       "      <td id=\"T_134fe_row6_col0\" class=\"data row6 col0\" >0.0079</td>\n",
       "      <td id=\"T_134fe_row6_col1\" class=\"data row6 col1\" >0.0406</td>\n",
       "      <td id=\"T_134fe_row6_col2\" class=\"data row6 col2\" >0.0398</td>\n",
       "      <td id=\"T_134fe_row6_col3\" class=\"data row6 col3\" >0.0328</td>\n",
       "      <td id=\"T_134fe_row6_col4\" class=\"data row6 col4\" >0.0072</td>\n",
       "      <td id=\"T_134fe_row6_col5\" class=\"data row6 col5\" >21339442107.7144</td>\n",
       "    </tr>\n",
       "  </tbody>\n",
       "</table>\n"
      ],
      "text/plain": [
       "<pandas.io.formats.style.Styler at 0x1b718e108b0>"
      ]
     },
     "metadata": {},
     "output_type": "display_data"
    },
    {
     "data": {
      "text/html": [],
      "text/plain": [
       "<IPython.core.display.HTML object>"
      ]
     },
     "metadata": {},
     "output_type": "display_data"
    },
    {
     "name": "stdout",
     "output_type": "stream",
     "text": [
      "Fitting 5 folds for each of 1 candidates, totalling 5 fits\n",
      "Fitting 5 folds for each of 1 candidates, totalling 5 fits\n",
      "Fitting 5 folds for each of 1 candidates, totalling 5 fits\n",
      "Fitting 5 folds for each of 1 candidates, totalling 5 fits\n",
      "Fitting 5 folds for each of 1 candidates, totalling 5 fits\n",
      "Fitting 5 folds for each of 1 candidates, totalling 5 fits\n",
      "Fitting 5 folds for each of 1 candidates, totalling 5 fits\n",
      "Fitting 5 folds for each of 1 candidates, totalling 5 fits\n",
      "Fitting 5 folds for each of 1 candidates, totalling 5 fits\n",
      "Fitting 5 folds for each of 1 candidates, totalling 5 fits\n",
      "Original model was better than the tuned model, hence it will be returned. NOTE: The display metrics are for the tuned model (not the original one).\n",
      "Transformation Pipeline and Model Successfully Saved\n",
      "Transformation Pipeline and Model Successfully Loaded\n"
     ]
    },
    {
     "data": {
      "text/html": [],
      "text/plain": [
       "<IPython.core.display.HTML object>"
      ]
     },
     "metadata": {},
     "output_type": "display_data"
    },
    {
     "name": "stdout",
     "output_type": "stream",
     "text": [
      "Prediction list size: (840,)\n",
      "Prediction list size: (840,)\n"
     ]
    }
   ],
   "source": [
    "from pycaret.regression import get_config\n",
    "# Setup\n",
    "regression_setup = setup(\n",
    "    data=model_data_clean,\n",
    "    target='target',\n",
    "    session_id=123,\n",
    "    fold=5,\n",
    "    train_size=0.8,\n",
    "    n_jobs=-1,\n",
    "    remove_multicollinearity=True,\n",
    "    multicollinearity_threshold=0.9,\n",
    "    verbose=False,\n",
    "    #remove_outliers=True,\n",
    "    #outliers_threshold=0.05\n",
    "    )\n",
    "\n",
    "# Compare, Tune, Finalize \n",
    "best_model = compare_models(sort='R2', n_select=3)\n",
    "tuned_model = tune_model(best_model[0], optimize='R2', search_library='scikit-optimize')\n",
    "final_model = finalize_model(tuned_model)\n",
    "\n",
    "# Save : final_model used the metric R2.\n",
    "save_model(final_model, 'formation_energy_final_model')\n",
    "\n",
    "# Load the saved model\n",
    "model = load_model('formation_energy_final_model')\n",
    "\n",
    "# Retrieve holdout set\n",
    "X_test = get_config('X_test')\n",
    "y_test = get_config('y_test')\n",
    "X_train = get_config('X_train')\n",
    "y_train = get_config('y_train')\n",
    "\n",
    "\n",
    "# Get predictions using the final model\n",
    "predictions_df = predict_model(model, data=X_test)\n",
    "\n",
    "# The predictions are in the 'Label' column\n",
    "y_pred = predictions_df['prediction_label']\n",
    "y_pred.head()\n",
    "print(\"Prediction list size:\",  y_pred.shape)\n",
    "print(\"Prediction list size:\",  y_test.shape)"
   ]
  },
  {
   "cell_type": "code",
   "execution_count": 120,
   "id": "3d6d0c58",
   "metadata": {},
   "outputs": [
    {
     "name": "stdout",
     "output_type": "stream",
     "text": [
      "Corrected MAPE_MAE: 3.20%\n",
      "MAE_MAE: 0.0065\n",
      "RMSE_MAE: 0.0784\n",
      "R2 Score_MAE: 0.9948\n"
     ]
    }
   ],
   "source": [
    "from sklearn.metrics import mean_absolute_error, root_mean_squared_error, r2_score\n",
    "\n",
    "def safe_mape(y_true, y_pred):\n",
    "    y_true, y_pred = np.array(y_true), np.array(y_pred)\n",
    "    mask = y_true != 0  # avoid division by zero\n",
    "    return np.mean(np.abs((y_true[mask] - y_pred[mask]) / y_true[mask])) * 100\n",
    "\n",
    "corrected_mape_mae = safe_mape(y_test_mae, y_pred_mae)\n",
    "# Calculate other metrics\n",
    "mae_mae = mean_absolute_error(y_test_mae, y_pred_mae)\n",
    "rmse_mae = root_mean_squared_error(y_test_mae, y_pred_mae)\n",
    "r2_mae = r2_score(y_test_mae, y_pred_mae)\n",
    "\n",
    "print(f\"Corrected MAPE_MAE: {corrected_mape_mae:.2f}%\")\n",
    "print(f\"MAE_MAE: {mae_mae:.4f}\")\n",
    "print(f\"RMSE_MAE: {rmse_mae:.4f}\")\n",
    "print(f\"R2 Score_MAE: {r2_mae:.4f}\")"
   ]
  },
  {
   "cell_type": "markdown",
   "id": "d5b9981c",
   "metadata": {},
   "source": [
    "2. evaluation: Metric- R2"
   ]
  },
  {
   "cell_type": "code",
   "execution_count": 119,
   "id": "67cabc7b",
   "metadata": {},
   "outputs": [
    {
     "name": "stdout",
     "output_type": "stream",
     "text": [
      "Corrected MAPE: 111.47%\n",
      "MAE: 0.1054\n",
      "RMSE: 0.1816\n",
      "R2 Score: 0.9723\n"
     ]
    }
   ],
   "source": [
    "corrected_mape = safe_mape(y_test, y_pred)\n",
    "# Calculate other metrics\n",
    "mae = mean_absolute_error(y_test, y_pred)\n",
    "rmse = root_mean_squared_error(y_test, y_pred)\n",
    "r2 = r2_score(y_test, y_pred)\n",
    "\n",
    "print(f\"Corrected MAPE: {corrected_mape:.2f}%\")\n",
    "print(f\"MAE: {mae:.4f}\")\n",
    "print(f\"RMSE: {rmse:.4f}\")\n",
    "print(f\"R2 Score: {r2:.4f}\")\n"
   ]
  },
  {
   "cell_type": "markdown",
   "id": "be489181",
   "metadata": {},
   "source": [
    "# Model Analysis\n",
    "https://pycaret.gitbook.io/docs/get-started/quickstart#regression"
   ]
  },
  {
   "cell_type": "markdown",
   "id": "e366d9bc",
   "metadata": {},
   "source": [
    "1. Sort: MAE"
   ]
  },
  {
   "cell_type": "code",
   "execution_count": null,
   "id": "619fbad1",
   "metadata": {},
   "outputs": [
    {
     "data": {
      "application/vnd.jupyter.widget-view+json": {
       "model_id": "3a08ab7a791b4846ba622ff25efd51b6",
       "version_major": 2,
       "version_minor": 0
      },
      "text/plain": [
       "interactive(children=(ToggleButtons(description='Plot Type:', icons=('',), options=(('Pipeline Plot', 'pipelin…"
      ]
     },
     "metadata": {},
     "output_type": "display_data"
    },
    {
     "name": "stdout",
     "output_type": "stream",
     "text": [
      "[ExtraTreesRegressor(n_jobs=-1, random_state=123), <catboost.core.CatBoostRegressor object at 0x000001B71000B7F0>, XGBRegressor(base_score=None, booster='gbtree', callbacks=None,\n",
      "             colsample_bylevel=None, colsample_bynode=None,\n",
      "             colsample_bytree=None, device='cpu', early_stopping_rounds=None,\n",
      "             enable_categorical=False, eval_metric=None, feature_types=None,\n",
      "             feature_weights=None, gamma=None, grow_policy=None,\n",
      "             importance_type=None, interaction_constraints=None,\n",
      "             learning_rate=None, max_bin=None, max_cat_threshold=None,\n",
      "             max_cat_to_onehot=None, max_delta_step=None, max_depth=None,\n",
      "             max_leaves=None, min_child_weight=None, missing=nan,\n",
      "             monotone_constraints=None, multi_strategy=None, n_estimators=None,\n",
      "             n_jobs=-1, num_parallel_tree=None, ...)]\n",
      "                    Description             Value\n",
      "0                    Session id               123\n",
      "1                        Target            target\n",
      "2                   Target type        Regression\n",
      "3           Original data shape       (4200, 147)\n",
      "4        Transformed data shape        (4200, 94)\n",
      "5   Transformed train set shape        (3360, 94)\n",
      "6    Transformed test set shape         (840, 94)\n",
      "7              Numeric features               139\n",
      "8                    Preprocess              True\n",
      "9               Imputation type            simple\n",
      "10           Numeric imputation              mean\n",
      "11       Categorical imputation              mode\n",
      "12     Remove multicollinearity              True\n",
      "13  Multicollinearity threshold               0.9\n",
      "14               Fold Generator             KFold\n",
      "15                  Fold Number                 5\n",
      "16                     CPU Jobs                -1\n",
      "17                      Use GPU             False\n",
      "18               Log Experiment             False\n",
      "19              Experiment Name  reg-default-name\n",
      "20                          USI              05c3\n"
     ]
    }
   ],
   "source": [
    "from pycaret.regression import evaluate_model\n",
    "from pycaret.regression import pull\n",
    "# Setup\n",
    "regression_setup_mae = setup(\n",
    "    data=model_data_clean,\n",
    "    target='target',\n",
    "    session_id=123,\n",
    "    fold=5,\n",
    "    train_size=0.8,\n",
    "    n_jobs=-1,\n",
    "    verbose=False,\n",
    "    remove_multicollinearity=True,\n",
    "    multicollinearity_threshold=0.9,\n",
    "    #remove_outliers=True,\n",
    "    #outliers_threshold=0.05\n",
    ")\n",
    "evaluate_model(model_mae)\n",
    "print(best_model_mae)\n",
    "\n",
    "# Use pull() after evaluate_model or plot_model to grab the results\n",
    "summary_df_mae = pull()\n",
    "print(summary_df_mae)"
   ]
  },
  {
   "cell_type": "markdown",
   "id": "c2901516",
   "metadata": {},
   "source": [
    "2. Sort: R2"
   ]
  },
  {
   "cell_type": "code",
   "execution_count": null,
   "id": "aa5d93e8",
   "metadata": {},
   "outputs": [
    {
     "data": {
      "application/vnd.jupyter.widget-view+json": {
       "model_id": "e5f74abbb74e4a11936616c3313a67d5",
       "version_major": 2,
       "version_minor": 0
      },
      "text/plain": [
       "interactive(children=(ToggleButtons(description='Plot Type:', icons=('',), options=(('Pipeline Plot', 'pipelin…"
      ]
     },
     "metadata": {},
     "output_type": "display_data"
    },
    {
     "name": "stdout",
     "output_type": "stream",
     "text": [
      "[LGBMRegressor(n_jobs=-1, random_state=123), <catboost.core.CatBoostRegressor object at 0x000001B704E5FF10>, RandomForestRegressor(n_jobs=-1, random_state=123)]\n",
      "                    Description             Value\n",
      "0                    Session id               123\n",
      "1                        Target            target\n",
      "2                   Target type        Regression\n",
      "3           Original data shape       (4200, 147)\n",
      "4        Transformed data shape        (4200, 94)\n",
      "5   Transformed train set shape        (3360, 94)\n",
      "6    Transformed test set shape         (840, 94)\n",
      "7              Numeric features               139\n",
      "8                    Preprocess              True\n",
      "9               Imputation type            simple\n",
      "10           Numeric imputation              mean\n",
      "11       Categorical imputation              mode\n",
      "12     Remove multicollinearity              True\n",
      "13  Multicollinearity threshold               0.9\n",
      "14               Fold Generator             KFold\n",
      "15                  Fold Number                 5\n",
      "16                     CPU Jobs                -1\n",
      "17                      Use GPU             False\n",
      "18               Log Experiment             False\n",
      "19              Experiment Name  reg-default-name\n",
      "20                          USI              3b78\n"
     ]
    }
   ],
   "source": [
    "# Setup\n",
    "regression_setup = setup(\n",
    "    data=model_data_clean,\n",
    "    target='target',\n",
    "    session_id=123,\n",
    "    fold=5,\n",
    "    train_size=0.8,\n",
    "    n_jobs=-1,\n",
    "    remove_multicollinearity=True,\n",
    "    multicollinearity_threshold=0.9,\n",
    "    verbose=False,\n",
    "    #remove_outliers=True,\n",
    "    #outliers_threshold=0.05\n",
    "    )\n",
    "\n",
    "evaluate_model(model)\n",
    "print(best_model)\n",
    "\n",
    "# Use pull() after evaluate_model or plot_model to grab the results\n",
    "summary_df = pull()\n",
    "print(summary_df)"
   ]
  }
 ],
 "metadata": {
  "kernelspec": {
   "display_name": "formation_env",
   "language": "python",
   "name": "python3"
  },
  "language_info": {
   "codemirror_mode": {
    "name": "ipython",
    "version": 3
   },
   "file_extension": ".py",
   "mimetype": "text/x-python",
   "name": "python",
   "nbconvert_exporter": "python",
   "pygments_lexer": "ipython3",
   "version": "3.10.16"
  }
 },
 "nbformat": 4,
 "nbformat_minor": 5
}
